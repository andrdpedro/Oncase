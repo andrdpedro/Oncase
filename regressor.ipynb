{
 "cells": [
  {
   "cell_type": "code",
   "execution_count": 1,
   "id": "de452f56",
   "metadata": {},
   "outputs": [],
   "source": [
    "import numpy as np\n",
    "import optuna as opt\n",
    "import pandas as pd\n",
    "import seaborn as sns\n",
    "\n",
    "from sklearn.compose import ColumnTransformer\n",
    "from sklearn.ensemble import RandomForestRegressor\n",
    "from sklearn.metrics import mean_squared_error, r2_score\n",
    "from sklearn.pipeline import make_pipeline\n",
    "from sklearn.preprocessing import StandardScaler"
   ]
  },
  {
   "cell_type": "code",
   "execution_count": 2,
   "id": "0fb8a61a",
   "metadata": {},
   "outputs": [],
   "source": [
    "df_train = pd.read_csv(\"regression_data/regression_train.csv\")\n",
    "df_test = pd.read_csv(\"regression_data/regression_test.csv\")"
   ]
  },
  {
   "cell_type": "code",
   "execution_count": 3,
   "id": "a152524a",
   "metadata": {},
   "outputs": [
    {
     "data": {
      "text/html": [
       "<div>\n",
       "<style scoped>\n",
       "    .dataframe tbody tr th:only-of-type {\n",
       "        vertical-align: middle;\n",
       "    }\n",
       "\n",
       "    .dataframe tbody tr th {\n",
       "        vertical-align: top;\n",
       "    }\n",
       "\n",
       "    .dataframe thead th {\n",
       "        text-align: right;\n",
       "    }\n",
       "</style>\n",
       "<table border=\"1\" class=\"dataframe\">\n",
       "  <thead>\n",
       "    <tr style=\"text-align: right;\">\n",
       "      <th></th>\n",
       "      <th>target</th>\n",
       "      <th>X1</th>\n",
       "      <th>X2</th>\n",
       "      <th>X3</th>\n",
       "      <th>X4</th>\n",
       "      <th>X5</th>\n",
       "      <th>X6</th>\n",
       "      <th>X7</th>\n",
       "    </tr>\n",
       "  </thead>\n",
       "  <tbody>\n",
       "    <tr>\n",
       "      <th>0</th>\n",
       "      <td>NaN</td>\n",
       "      <td>-0.546168</td>\n",
       "      <td>NaN</td>\n",
       "      <td>47.063305</td>\n",
       "      <td>1.611370</td>\n",
       "      <td>-65.882137</td>\n",
       "      <td>0</td>\n",
       "      <td>-16.672865</td>\n",
       "    </tr>\n",
       "    <tr>\n",
       "      <th>1</th>\n",
       "      <td>47.735389</td>\n",
       "      <td>3.074317</td>\n",
       "      <td>-2.836000</td>\n",
       "      <td>49.396649</td>\n",
       "      <td>0.261998</td>\n",
       "      <td>-66.570716</td>\n",
       "      <td>0</td>\n",
       "      <td>-6.664599</td>\n",
       "    </tr>\n",
       "    <tr>\n",
       "      <th>2</th>\n",
       "      <td>NaN</td>\n",
       "      <td>-1.485531</td>\n",
       "      <td>-13.102537</td>\n",
       "      <td>42.367991</td>\n",
       "      <td>3.991558</td>\n",
       "      <td>-67.108014</td>\n",
       "      <td>8</td>\n",
       "      <td>-30.790962</td>\n",
       "    </tr>\n",
       "    <tr>\n",
       "      <th>3</th>\n",
       "      <td>908.202209</td>\n",
       "      <td>6.907396</td>\n",
       "      <td>-0.308967</td>\n",
       "      <td>57.228787</td>\n",
       "      <td>0.256771</td>\n",
       "      <td>-66.181266</td>\n",
       "      <td>5</td>\n",
       "      <td>-0.726072</td>\n",
       "    </tr>\n",
       "    <tr>\n",
       "      <th>4</th>\n",
       "      <td>1640.461863</td>\n",
       "      <td>1.916788</td>\n",
       "      <td>3.460290</td>\n",
       "      <td>51.703375</td>\n",
       "      <td>2.463790</td>\n",
       "      <td>-65.143663</td>\n",
       "      <td>5</td>\n",
       "      <td>8.131680</td>\n",
       "    </tr>\n",
       "    <tr>\n",
       "      <th>...</th>\n",
       "      <td>...</td>\n",
       "      <td>...</td>\n",
       "      <td>...</td>\n",
       "      <td>...</td>\n",
       "      <td>...</td>\n",
       "      <td>...</td>\n",
       "      <td>...</td>\n",
       "      <td>...</td>\n",
       "    </tr>\n",
       "    <tr>\n",
       "      <th>1037</th>\n",
       "      <td>4296.426459</td>\n",
       "      <td>5.375810</td>\n",
       "      <td>6.937947</td>\n",
       "      <td>55.810467</td>\n",
       "      <td>1.698025</td>\n",
       "      <td>-65.819509</td>\n",
       "      <td>8</td>\n",
       "      <td>16.304176</td>\n",
       "    </tr>\n",
       "    <tr>\n",
       "      <th>1038</th>\n",
       "      <td>54.530919</td>\n",
       "      <td>0.619207</td>\n",
       "      <td>-1.925819</td>\n",
       "      <td>48.168606</td>\n",
       "      <td>1.357223</td>\n",
       "      <td>-65.385243</td>\n",
       "      <td>8</td>\n",
       "      <td>-4.525675</td>\n",
       "    </tr>\n",
       "    <tr>\n",
       "      <th>1039</th>\n",
       "      <td>1636.535078</td>\n",
       "      <td>4.548172</td>\n",
       "      <td>2.886253</td>\n",
       "      <td>47.775525</td>\n",
       "      <td>1.278439</td>\n",
       "      <td>-56.312543</td>\n",
       "      <td>8</td>\n",
       "      <td>6.782694</td>\n",
       "    </tr>\n",
       "    <tr>\n",
       "      <th>1040</th>\n",
       "      <td>NaN</td>\n",
       "      <td>1.806045</td>\n",
       "      <td>-3.015213</td>\n",
       "      <td>48.352707</td>\n",
       "      <td>4.627906</td>\n",
       "      <td>-57.722688</td>\n",
       "      <td>5</td>\n",
       "      <td>-7.085751</td>\n",
       "    </tr>\n",
       "    <tr>\n",
       "      <th>1041</th>\n",
       "      <td>2951.647675</td>\n",
       "      <td>6.002320</td>\n",
       "      <td>5.760220</td>\n",
       "      <td>41.926049</td>\n",
       "      <td>3.562797</td>\n",
       "      <td>-81.111346</td>\n",
       "      <td>8</td>\n",
       "      <td>13.536516</td>\n",
       "    </tr>\n",
       "  </tbody>\n",
       "</table>\n",
       "<p>1042 rows × 8 columns</p>\n",
       "</div>"
      ],
      "text/plain": [
       "           target        X1         X2         X3        X4         X5  X6   \n",
       "0             NaN -0.546168        NaN  47.063305  1.611370 -65.882137   0  \\\n",
       "1       47.735389  3.074317  -2.836000  49.396649  0.261998 -66.570716   0   \n",
       "2             NaN -1.485531 -13.102537  42.367991  3.991558 -67.108014   8   \n",
       "3      908.202209  6.907396  -0.308967  57.228787  0.256771 -66.181266   5   \n",
       "4     1640.461863  1.916788   3.460290  51.703375  2.463790 -65.143663   5   \n",
       "...           ...       ...        ...        ...       ...        ...  ..   \n",
       "1037  4296.426459  5.375810   6.937947  55.810467  1.698025 -65.819509   8   \n",
       "1038    54.530919  0.619207  -1.925819  48.168606  1.357223 -65.385243   8   \n",
       "1039  1636.535078  4.548172   2.886253  47.775525  1.278439 -56.312543   8   \n",
       "1040          NaN  1.806045  -3.015213  48.352707  4.627906 -57.722688   5   \n",
       "1041  2951.647675  6.002320   5.760220  41.926049  3.562797 -81.111346   8   \n",
       "\n",
       "             X7  \n",
       "0    -16.672865  \n",
       "1     -6.664599  \n",
       "2    -30.790962  \n",
       "3     -0.726072  \n",
       "4      8.131680  \n",
       "...         ...  \n",
       "1037  16.304176  \n",
       "1038  -4.525675  \n",
       "1039   6.782694  \n",
       "1040  -7.085751  \n",
       "1041  13.536516  \n",
       "\n",
       "[1042 rows x 8 columns]"
      ]
     },
     "execution_count": 3,
     "metadata": {},
     "output_type": "execute_result"
    }
   ],
   "source": [
    "df_train"
   ]
  },
  {
   "cell_type": "code",
   "execution_count": 4,
   "id": "dcc0661c",
   "metadata": {},
   "outputs": [
    {
     "data": {
      "text/html": [
       "<div>\n",
       "<style scoped>\n",
       "    .dataframe tbody tr th:only-of-type {\n",
       "        vertical-align: middle;\n",
       "    }\n",
       "\n",
       "    .dataframe tbody tr th {\n",
       "        vertical-align: top;\n",
       "    }\n",
       "\n",
       "    .dataframe thead th {\n",
       "        text-align: right;\n",
       "    }\n",
       "</style>\n",
       "<table border=\"1\" class=\"dataframe\">\n",
       "  <thead>\n",
       "    <tr style=\"text-align: right;\">\n",
       "      <th></th>\n",
       "      <th>target</th>\n",
       "      <th>X1</th>\n",
       "      <th>X2</th>\n",
       "      <th>X3</th>\n",
       "      <th>X4</th>\n",
       "      <th>X5</th>\n",
       "      <th>X6</th>\n",
       "      <th>X7</th>\n",
       "    </tr>\n",
       "  </thead>\n",
       "  <tbody>\n",
       "    <tr>\n",
       "      <th>0</th>\n",
       "      <td>3.436244</td>\n",
       "      <td>0.210854</td>\n",
       "      <td>-2.451307</td>\n",
       "      <td>51.239996</td>\n",
       "      <td>4.641751</td>\n",
       "      <td>-67.874319</td>\n",
       "      <td>5</td>\n",
       "      <td>-5.760571</td>\n",
       "    </tr>\n",
       "    <tr>\n",
       "      <th>1</th>\n",
       "      <td>1525.839412</td>\n",
       "      <td>2.157483</td>\n",
       "      <td>4.337776</td>\n",
       "      <td>43.828794</td>\n",
       "      <td>8.070219</td>\n",
       "      <td>-68.405526</td>\n",
       "      <td>8</td>\n",
       "      <td>10.193773</td>\n",
       "    </tr>\n",
       "    <tr>\n",
       "      <th>2</th>\n",
       "      <td>455.600191</td>\n",
       "      <td>5.166359</td>\n",
       "      <td>-0.452615</td>\n",
       "      <td>43.931305</td>\n",
       "      <td>1.349625</td>\n",
       "      <td>-66.240021</td>\n",
       "      <td>0</td>\n",
       "      <td>-1.063645</td>\n",
       "    </tr>\n",
       "    <tr>\n",
       "      <th>3</th>\n",
       "      <td>0.619759</td>\n",
       "      <td>3.276641</td>\n",
       "      <td>-3.607201</td>\n",
       "      <td>50.631046</td>\n",
       "      <td>2.473542</td>\n",
       "      <td>-69.971690</td>\n",
       "      <td>8</td>\n",
       "      <td>-8.476921</td>\n",
       "    </tr>\n",
       "    <tr>\n",
       "      <th>4</th>\n",
       "      <td>10.996472</td>\n",
       "      <td>-1.867485</td>\n",
       "      <td>-2.408863</td>\n",
       "      <td>58.660224</td>\n",
       "      <td>2.826219</td>\n",
       "      <td>-53.647149</td>\n",
       "      <td>5</td>\n",
       "      <td>-5.660827</td>\n",
       "    </tr>\n",
       "    <tr>\n",
       "      <th>...</th>\n",
       "      <td>...</td>\n",
       "      <td>...</td>\n",
       "      <td>...</td>\n",
       "      <td>...</td>\n",
       "      <td>...</td>\n",
       "      <td>...</td>\n",
       "      <td>...</td>\n",
       "      <td>...</td>\n",
       "    </tr>\n",
       "    <tr>\n",
       "      <th>256</th>\n",
       "      <td>555.785223</td>\n",
       "      <td>5.099614</td>\n",
       "      <td>-0.648889</td>\n",
       "      <td>54.770941</td>\n",
       "      <td>1.975509</td>\n",
       "      <td>-61.664039</td>\n",
       "      <td>8</td>\n",
       "      <td>-1.524890</td>\n",
       "    </tr>\n",
       "    <tr>\n",
       "      <th>257</th>\n",
       "      <td>624.578115</td>\n",
       "      <td>0.220241</td>\n",
       "      <td>1.410877</td>\n",
       "      <td>42.895015</td>\n",
       "      <td>0.639779</td>\n",
       "      <td>-66.077209</td>\n",
       "      <td>0</td>\n",
       "      <td>3.315561</td>\n",
       "    </tr>\n",
       "    <tr>\n",
       "      <th>258</th>\n",
       "      <td>NaN</td>\n",
       "      <td>1.066213</td>\n",
       "      <td>-5.569022</td>\n",
       "      <td>51.318035</td>\n",
       "      <td>1.994699</td>\n",
       "      <td>-64.081511</td>\n",
       "      <td>0</td>\n",
       "      <td>-13.087202</td>\n",
       "    </tr>\n",
       "    <tr>\n",
       "      <th>259</th>\n",
       "      <td>NaN</td>\n",
       "      <td>-2.260013</td>\n",
       "      <td>-10.854081</td>\n",
       "      <td>38.671378</td>\n",
       "      <td>1.065288</td>\n",
       "      <td>-66.732946</td>\n",
       "      <td>0</td>\n",
       "      <td>-25.507091</td>\n",
       "    </tr>\n",
       "    <tr>\n",
       "      <th>260</th>\n",
       "      <td>22.858984</td>\n",
       "      <td>-1.003001</td>\n",
       "      <td>-1.600670</td>\n",
       "      <td>49.784381</td>\n",
       "      <td>4.757053</td>\n",
       "      <td>-69.482447</td>\n",
       "      <td>5</td>\n",
       "      <td>-3.761574</td>\n",
       "    </tr>\n",
       "  </tbody>\n",
       "</table>\n",
       "<p>261 rows × 8 columns</p>\n",
       "</div>"
      ],
      "text/plain": [
       "          target        X1         X2         X3        X4         X5  X6   \n",
       "0       3.436244  0.210854  -2.451307  51.239996  4.641751 -67.874319   5  \\\n",
       "1    1525.839412  2.157483   4.337776  43.828794  8.070219 -68.405526   8   \n",
       "2     455.600191  5.166359  -0.452615  43.931305  1.349625 -66.240021   0   \n",
       "3       0.619759  3.276641  -3.607201  50.631046  2.473542 -69.971690   8   \n",
       "4      10.996472 -1.867485  -2.408863  58.660224  2.826219 -53.647149   5   \n",
       "..           ...       ...        ...        ...       ...        ...  ..   \n",
       "256   555.785223  5.099614  -0.648889  54.770941  1.975509 -61.664039   8   \n",
       "257   624.578115  0.220241   1.410877  42.895015  0.639779 -66.077209   0   \n",
       "258          NaN  1.066213  -5.569022  51.318035  1.994699 -64.081511   0   \n",
       "259          NaN -2.260013 -10.854081  38.671378  1.065288 -66.732946   0   \n",
       "260    22.858984 -1.003001  -1.600670  49.784381  4.757053 -69.482447   5   \n",
       "\n",
       "            X7  \n",
       "0    -5.760571  \n",
       "1    10.193773  \n",
       "2    -1.063645  \n",
       "3    -8.476921  \n",
       "4    -5.660827  \n",
       "..         ...  \n",
       "256  -1.524890  \n",
       "257   3.315561  \n",
       "258 -13.087202  \n",
       "259 -25.507091  \n",
       "260  -3.761574  \n",
       "\n",
       "[261 rows x 8 columns]"
      ]
     },
     "execution_count": 4,
     "metadata": {},
     "output_type": "execute_result"
    }
   ],
   "source": [
    "df_test"
   ]
  },
  {
   "cell_type": "code",
   "execution_count": 5,
   "id": "d3c7b29a",
   "metadata": {},
   "outputs": [
    {
     "name": "stdout",
     "output_type": "stream",
     "text": [
      "<class 'pandas.core.frame.DataFrame'>\n",
      "RangeIndex: 1042 entries, 0 to 1041\n",
      "Data columns (total 8 columns):\n",
      " #   Column  Non-Null Count  Dtype  \n",
      "---  ------  --------------  -----  \n",
      " 0   target  715 non-null    float64\n",
      " 1   X1      1042 non-null   float64\n",
      " 2   X2      1031 non-null   float64\n",
      " 3   X3      1042 non-null   float64\n",
      " 4   X4      1042 non-null   float64\n",
      " 5   X5      1042 non-null   float64\n",
      " 6   X6      1042 non-null   int64  \n",
      " 7   X7      1042 non-null   float64\n",
      "dtypes: float64(7), int64(1)\n",
      "memory usage: 65.2 KB\n"
     ]
    }
   ],
   "source": [
    "df_train.info()"
   ]
  },
  {
   "cell_type": "code",
   "execution_count": 6,
   "id": "9411cf47",
   "metadata": {},
   "outputs": [
    {
     "name": "stdout",
     "output_type": "stream",
     "text": [
      "<class 'pandas.core.frame.DataFrame'>\n",
      "RangeIndex: 261 entries, 0 to 260\n",
      "Data columns (total 8 columns):\n",
      " #   Column  Non-Null Count  Dtype  \n",
      "---  ------  --------------  -----  \n",
      " 0   target  180 non-null    float64\n",
      " 1   X1      261 non-null    float64\n",
      " 2   X2      261 non-null    float64\n",
      " 3   X3      261 non-null    float64\n",
      " 4   X4      261 non-null    float64\n",
      " 5   X5      261 non-null    float64\n",
      " 6   X6      261 non-null    int64  \n",
      " 7   X7      261 non-null    float64\n",
      "dtypes: float64(7), int64(1)\n",
      "memory usage: 16.4 KB\n"
     ]
    }
   ],
   "source": [
    "df_test.info()"
   ]
  },
  {
   "cell_type": "code",
   "execution_count": 7,
   "id": "d1027c2c",
   "metadata": {},
   "outputs": [],
   "source": [
    "df_train = df_train.dropna().reset_index(drop=True)\n",
    "df_test = df_test.dropna().reset_index(drop=True)"
   ]
  },
  {
   "cell_type": "code",
   "execution_count": 8,
   "id": "f09f9b26",
   "metadata": {},
   "outputs": [
    {
     "data": {
      "text/plain": [
       "['X1', 'X2', 'X3', 'X4', 'X5', 'X7']"
      ]
     },
     "execution_count": 8,
     "metadata": {},
     "output_type": "execute_result"
    }
   ],
   "source": [
    "cat_col = [\"X6\"]\n",
    "num_col = [x for x in df_train.columns if x not in cat_col + [\"target\"]]\n",
    "num_col"
   ]
  },
  {
   "cell_type": "code",
   "execution_count": 9,
   "id": "218faa57",
   "metadata": {},
   "outputs": [],
   "source": [
    "X_train = X_train = df_train[cat_col + num_col]\n",
    "y_train = df_train[\"target\"]\n",
    "X_test = df_test[cat_col + num_col]\n",
    "y_test = df_test[\"target\"]"
   ]
  },
  {
   "cell_type": "code",
   "execution_count": 10,
   "id": "99950961",
   "metadata": {},
   "outputs": [],
   "source": [
    "def create_pipeline(**params):\n",
    "    scaler = StandardScaler()\n",
    "    num_transformer = make_pipeline(scaler)\n",
    "    \n",
    "    preprocessor = ColumnTransformer(\n",
    "        transformers=[(\"num\", num_transformer, num_col)],\n",
    "        remainder=\"passthrough\"\n",
    "    )\n",
    "    \n",
    "    regressor = RandomForestRegressor(random_state=42, **params)\n",
    "    pipe = make_pipeline(preprocessor, regressor)\n",
    "    return pipe"
   ]
  },
  {
   "cell_type": "code",
   "execution_count": 11,
   "id": "a8d3feec",
   "metadata": {},
   "outputs": [],
   "source": [
    "def objective(trial):\n",
    "    params = {\n",
    "        'n_estimators': trial.suggest_int('n_estimators', 50, 1000),\n",
    "        'max_depth': trial.suggest_int('max_depth', 4, 50),\n",
    "        'min_samples_split': trial.suggest_int('min_samples_split', 2, 150),\n",
    "        'min_samples_leaf': trial.suggest_int('min_samples_leaf', 2, 60),\n",
    "    }\n",
    "    pipe = create_pipeline(**params)\n",
    "    pipe.fit(X_train, y_train)\n",
    "    y_pred = pipe.predict(X_test)\n",
    "    \n",
    "    return mean_squared_error(y_test, y_pred, squared=False)\n",
    "\n"
   ]
  },
  {
   "cell_type": "code",
   "execution_count": 12,
   "id": "ff15f676",
   "metadata": {},
   "outputs": [
    {
     "name": "stderr",
     "output_type": "stream",
     "text": [
      "\u001b[32m[I 2023-07-04 19:37:00,163]\u001b[0m A new study created in memory with name: no-name-02b710ac-f23f-48aa-8153-fb92db3f3ccc\u001b[0m\n",
      "\u001b[32m[I 2023-07-04 19:37:02,800]\u001b[0m Trial 3 finished with value: 514.4835257955148 and parameters: {'n_estimators': 64, 'max_depth': 24, 'min_samples_split': 149, 'min_samples_leaf': 31}. Best is trial 3 with value: 514.4835257955148.\u001b[0m\n",
      "\u001b[32m[I 2023-07-04 19:37:03,159]\u001b[0m Trial 10 finished with value: 507.9115077087597 and parameters: {'n_estimators': 66, 'max_depth': 41, 'min_samples_split': 128, 'min_samples_leaf': 5}. Best is trial 10 with value: 507.9115077087597.\u001b[0m\n",
      "\u001b[32m[I 2023-07-04 19:37:03,778]\u001b[0m Trial 6 finished with value: 510.97331021694504 and parameters: {'n_estimators': 107, 'max_depth': 29, 'min_samples_split': 125, 'min_samples_leaf': 51}. Best is trial 10 with value: 507.9115077087597.\u001b[0m\n",
      "\u001b[32m[I 2023-07-04 19:37:04,734]\u001b[0m Trial 2 finished with value: 345.68461198709673 and parameters: {'n_estimators': 134, 'max_depth': 26, 'min_samples_split': 67, 'min_samples_leaf': 19}. Best is trial 2 with value: 345.68461198709673.\u001b[0m\n",
      "\u001b[32m[I 2023-07-04 19:37:05,137]\u001b[0m Trial 13 finished with value: 533.3053796289818 and parameters: {'n_estimators': 205, 'max_depth': 36, 'min_samples_split': 149, 'min_samples_leaf': 60}. Best is trial 2 with value: 345.68461198709673.\u001b[0m\n",
      "\u001b[32m[I 2023-07-04 19:37:05,607]\u001b[0m Trial 7 finished with value: 516.8568140574613 and parameters: {'n_estimators': 216, 'max_depth': 43, 'min_samples_split': 88, 'min_samples_leaf': 55}. Best is trial 2 with value: 345.68461198709673.\u001b[0m\n",
      "\u001b[32m[I 2023-07-04 19:37:05,882]\u001b[0m Trial 14 finished with value: 344.6632478141763 and parameters: {'n_estimators': 174, 'max_depth': 33, 'min_samples_split': 27, 'min_samples_leaf': 30}. Best is trial 14 with value: 344.6632478141763.\u001b[0m\n",
      "\u001b[32m[I 2023-07-04 19:37:06,008]\u001b[0m Trial 19 finished with value: 497.5789037380901 and parameters: {'n_estimators': 52, 'max_depth': 31, 'min_samples_split': 103, 'min_samples_leaf': 36}. Best is trial 14 with value: 344.6632478141763.\u001b[0m\n",
      "\u001b[32m[I 2023-07-04 19:37:07,632]\u001b[0m Trial 15 finished with value: 518.0425501218645 and parameters: {'n_estimators': 323, 'max_depth': 49, 'min_samples_split': 7, 'min_samples_leaf': 56}. Best is trial 14 with value: 344.6632478141763.\u001b[0m\n",
      "\u001b[32m[I 2023-07-04 19:37:09,105]\u001b[0m Trial 4 finished with value: 497.382781691406 and parameters: {'n_estimators': 421, 'max_depth': 20, 'min_samples_split': 44, 'min_samples_leaf': 42}. Best is trial 14 with value: 344.6632478141763.\u001b[0m\n",
      "\u001b[32m[I 2023-07-04 19:37:09,555]\u001b[0m Trial 22 finished with value: 473.2652888635268 and parameters: {'n_estimators': 217, 'max_depth': 5, 'min_samples_split': 83, 'min_samples_leaf': 3}. Best is trial 14 with value: 344.6632478141763.\u001b[0m\n",
      "\u001b[32m[I 2023-07-04 19:37:12,089]\u001b[0m Trial 16 finished with value: 514.2118790203978 and parameters: {'n_estimators': 574, 'max_depth': 23, 'min_samples_split': 127, 'min_samples_leaf': 43}. Best is trial 14 with value: 344.6632478141763.\u001b[0m\n",
      "\u001b[32m[I 2023-07-04 19:37:12,747]\u001b[0m Trial 12 finished with value: 489.2959717902264 and parameters: {'n_estimators': 617, 'max_depth': 4, 'min_samples_split': 93, 'min_samples_leaf': 7}. Best is trial 14 with value: 344.6632478141763.\u001b[0m\n",
      "\u001b[32m[I 2023-07-04 19:37:13,128]\u001b[0m Trial 9 finished with value: 511.18216776222533 and parameters: {'n_estimators': 642, 'max_depth': 7, 'min_samples_split': 115, 'min_samples_leaf': 26}. Best is trial 14 with value: 344.6632478141763.\u001b[0m\n",
      "\u001b[32m[I 2023-07-04 19:37:13,303]\u001b[0m Trial 17 finished with value: 522.6399029660496 and parameters: {'n_estimators': 583, 'max_depth': 13, 'min_samples_split': 41, 'min_samples_leaf': 60}. Best is trial 14 with value: 344.6632478141763.\u001b[0m\n",
      "\u001b[32m[I 2023-07-04 19:37:14,494]\u001b[0m Trial 23 finished with value: 475.251408074897 and parameters: {'n_estimators': 464, 'max_depth': 24, 'min_samples_split': 9, 'min_samples_leaf': 39}. Best is trial 14 with value: 344.6632478141763.\u001b[0m\n",
      "\u001b[32m[I 2023-07-04 19:37:15,564]\u001b[0m Trial 8 finished with value: 515.7698799628643 and parameters: {'n_estimators': 784, 'max_depth': 25, 'min_samples_split': 114, 'min_samples_leaf': 52}. Best is trial 14 with value: 344.6632478141763.\u001b[0m\n",
      "\u001b[32m[I 2023-07-04 19:37:17,379]\u001b[0m Trial 11 finished with value: 516.9866597685293 and parameters: {'n_estimators': 962, 'max_depth': 28, 'min_samples_split': 140, 'min_samples_leaf': 41}. Best is trial 14 with value: 344.6632478141763.\u001b[0m\n",
      "\u001b[32m[I 2023-07-04 19:37:17,585]\u001b[0m Trial 0 finished with value: 506.2842030328933 and parameters: {'n_estimators': 878, 'max_depth': 32, 'min_samples_split': 106, 'min_samples_leaf': 9}. Best is trial 14 with value: 344.6632478141763.\u001b[0m\n",
      "\u001b[32m[I 2023-07-04 19:37:18,102]\u001b[0m Trial 18 finished with value: 219.8344242413358 and parameters: {'n_estimators': 599, 'max_depth': 47, 'min_samples_split': 33, 'min_samples_leaf': 5}. Best is trial 18 with value: 219.8344242413358.\u001b[0m\n",
      "\u001b[32m[I 2023-07-04 19:37:19,074]\u001b[0m Trial 1 finished with value: 315.14650004618585 and parameters: {'n_estimators': 805, 'max_depth': 40, 'min_samples_split': 34, 'min_samples_leaf': 21}. Best is trial 18 with value: 219.8344242413358.\u001b[0m\n",
      "\u001b[32m[I 2023-07-04 19:37:19,535]\u001b[0m Trial 20 finished with value: 489.9078998575829 and parameters: {'n_estimators': 805, 'max_depth': 44, 'min_samples_split': 8, 'min_samples_leaf': 41}. Best is trial 18 with value: 219.8344242413358.\u001b[0m\n",
      "\u001b[32m[I 2023-07-04 19:37:21,060]\u001b[0m Trial 24 finished with value: 177.82094807565807 and parameters: {'n_estimators': 501, 'max_depth': 47, 'min_samples_split': 17, 'min_samples_leaf': 7}. Best is trial 24 with value: 177.82094807565807.\u001b[0m\n",
      "\u001b[32m[I 2023-07-04 19:37:21,128]\u001b[0m Trial 5 finished with value: 393.8299422843761 and parameters: {'n_estimators': 973, 'max_depth': 7, 'min_samples_split': 52, 'min_samples_leaf': 34}. Best is trial 24 with value: 177.82094807565807.\u001b[0m\n",
      "\u001b[32m[I 2023-07-04 19:37:22,216]\u001b[0m Trial 30 finished with value: 320.5209128534604 and parameters: {'n_estimators': 425, 'max_depth': 18, 'min_samples_split': 57, 'min_samples_leaf': 18}. Best is trial 24 with value: 177.82094807565807.\u001b[0m\n",
      "\u001b[32m[I 2023-07-04 19:37:24,545]\u001b[0m Trial 33 finished with value: 326.0316951077919 and parameters: {'n_estimators': 352, 'max_depth': 15, 'min_samples_split': 59, 'min_samples_leaf': 18}. Best is trial 24 with value: 177.82094807565807.\u001b[0m\n",
      "\u001b[32m[I 2023-07-04 19:37:24,567]\u001b[0m Trial 34 finished with value: 330.3255069452265 and parameters: {'n_estimators': 340, 'max_depth': 17, 'min_samples_split': 62, 'min_samples_leaf': 17}. Best is trial 24 with value: 177.82094807565807.\u001b[0m\n",
      "\u001b[32m[I 2023-07-04 19:37:24,681]\u001b[0m Trial 26 finished with value: 310.7221691044123 and parameters: {'n_estimators': 696, 'max_depth': 17, 'min_samples_split': 44, 'min_samples_leaf': 20}. Best is trial 24 with value: 177.82094807565807.\u001b[0m\n",
      "\u001b[32m[I 2023-07-04 19:37:25,125]\u001b[0m Trial 25 finished with value: 315.6585136322424 and parameters: {'n_estimators': 710, 'max_depth': 7, 'min_samples_split': 3, 'min_samples_leaf': 21}. Best is trial 24 with value: 177.82094807565807.\u001b[0m\n",
      "\u001b[32m[I 2023-07-04 19:37:26,475]\u001b[0m Trial 21 finished with value: 296.6808488043615 and parameters: {'n_estimators': 890, 'max_depth': 10, 'min_samples_split': 37, 'min_samples_leaf': 18}. Best is trial 24 with value: 177.82094807565807.\u001b[0m\n",
      "\u001b[32m[I 2023-07-04 19:37:29,189]\u001b[0m Trial 27 finished with value: 310.00543835105515 and parameters: {'n_estimators': 804, 'max_depth': 15, 'min_samples_split': 43, 'min_samples_leaf': 20}. Best is trial 24 with value: 177.82094807565807.\u001b[0m\n",
      "\u001b[32m[I 2023-07-04 19:37:30,081]\u001b[0m Trial 28 finished with value: 311.8392298767359 and parameters: {'n_estimators': 851, 'max_depth': 18, 'min_samples_split': 46, 'min_samples_leaf': 20}. Best is trial 24 with value: 177.82094807565807.\u001b[0m\n",
      "\u001b[32m[I 2023-07-04 19:37:30,391]\u001b[0m Trial 29 finished with value: 309.8311812940521 and parameters: {'n_estimators': 843, 'max_depth': 17, 'min_samples_split': 52, 'min_samples_leaf': 18}. Best is trial 24 with value: 177.82094807565807.\u001b[0m\n",
      "\u001b[32m[I 2023-07-04 19:37:30,984]\u001b[0m Trial 31 finished with value: 327.5527931515327 and parameters: {'n_estimators': 821, 'max_depth': 16, 'min_samples_split': 61, 'min_samples_leaf': 19}. Best is trial 24 with value: 177.82094807565807.\u001b[0m\n"
     ]
    },
    {
     "name": "stderr",
     "output_type": "stream",
     "text": [
      "\u001b[32m[I 2023-07-04 19:37:33,116]\u001b[0m Trial 32 finished with value: 323.97477147298054 and parameters: {'n_estimators': 919, 'max_depth': 36, 'min_samples_split': 59, 'min_samples_leaf': 19}. Best is trial 24 with value: 177.82094807565807.\u001b[0m\n",
      "\u001b[32m[I 2023-07-04 19:37:34,054]\u001b[0m Trial 35 finished with value: 273.6049635523942 and parameters: {'n_estimators': 725, 'max_depth': 50, 'min_samples_split': 29, 'min_samples_leaf': 16}. Best is trial 24 with value: 177.82094807565807.\u001b[0m\n",
      "\u001b[32m[I 2023-07-04 19:37:34,899]\u001b[0m Trial 38 finished with value: 305.5317962098505 and parameters: {'n_estimators': 720, 'max_depth': 50, 'min_samples_split': 61, 'min_samples_leaf': 13}. Best is trial 24 with value: 177.82094807565807.\u001b[0m\n",
      "\u001b[32m[I 2023-07-04 19:37:35,275]\u001b[0m Trial 36 finished with value: 273.6049635523942 and parameters: {'n_estimators': 725, 'max_depth': 47, 'min_samples_split': 22, 'min_samples_leaf': 16}. Best is trial 24 with value: 177.82094807565807.\u001b[0m\n",
      "\u001b[32m[I 2023-07-04 19:37:35,607]\u001b[0m Trial 37 finished with value: 262.4287639282083 and parameters: {'n_estimators': 724, 'max_depth': 37, 'min_samples_split': 30, 'min_samples_leaf': 15}. Best is trial 24 with value: 177.82094807565807.\u001b[0m\n",
      "\u001b[32m[I 2023-07-04 19:37:36,076]\u001b[0m Trial 44 finished with value: 211.19076026232264 and parameters: {'n_estimators': 514, 'max_depth': 50, 'min_samples_split': 23, 'min_samples_leaf': 11}. Best is trial 24 with value: 177.82094807565807.\u001b[0m\n",
      "\u001b[32m[I 2023-07-04 19:37:36,864]\u001b[0m Trial 39 finished with value: 268.24165024185487 and parameters: {'n_estimators': 712, 'max_depth': 50, 'min_samples_split': 35, 'min_samples_leaf': 15}. Best is trial 24 with value: 177.82094807565807.\u001b[0m\n",
      "\u001b[32m[I 2023-07-04 19:37:37,685]\u001b[0m Trial 40 finished with value: 235.34023943693595 and parameters: {'n_estimators': 711, 'max_depth': 50, 'min_samples_split': 24, 'min_samples_leaf': 13}. Best is trial 24 with value: 177.82094807565807.\u001b[0m\n",
      "\u001b[32m[I 2023-07-04 19:37:39,710]\u001b[0m Trial 41 finished with value: 219.0129585027262 and parameters: {'n_estimators': 719, 'max_depth': 50, 'min_samples_split': 27, 'min_samples_leaf': 11}. Best is trial 24 with value: 177.82094807565807.\u001b[0m\n",
      "\u001b[32m[I 2023-07-04 19:37:39,936]\u001b[0m Trial 42 finished with value: 223.0749204066401 and parameters: {'n_estimators': 702, 'max_depth': 50, 'min_samples_split': 21, 'min_samples_leaf': 12}. Best is trial 24 with value: 177.82094807565807.\u001b[0m\n",
      "\u001b[32m[I 2023-07-04 19:37:40,239]\u001b[0m Trial 43 finished with value: 210.0218495221941 and parameters: {'n_estimators': 694, 'max_depth': 50, 'min_samples_split': 20, 'min_samples_leaf': 11}. Best is trial 24 with value: 177.82094807565807.\u001b[0m\n",
      "\u001b[32m[I 2023-07-04 19:37:41,321]\u001b[0m Trial 47 finished with value: 222.79139027536294 and parameters: {'n_estimators': 530, 'max_depth': 50, 'min_samples_split': 20, 'min_samples_leaf': 12}. Best is trial 24 with value: 177.82094807565807.\u001b[0m\n",
      "\u001b[32m[I 2023-07-04 19:37:43,696]\u001b[0m Trial 50 finished with value: 224.0542317468826 and parameters: {'n_estimators': 523, 'max_depth': 50, 'min_samples_split': 25, 'min_samples_leaf': 12}. Best is trial 24 with value: 177.82094807565807.\u001b[0m\n",
      "\u001b[32m[I 2023-07-04 19:37:44,404]\u001b[0m Trial 51 finished with value: 222.46075846250307 and parameters: {'n_estimators': 500, 'max_depth': 50, 'min_samples_split': 23, 'min_samples_leaf': 12}. Best is trial 24 with value: 177.82094807565807.\u001b[0m\n",
      "\u001b[32m[I 2023-07-04 19:37:44,485]\u001b[0m Trial 45 finished with value: 222.83535166994446 and parameters: {'n_estimators': 880, 'max_depth': 46, 'min_samples_split': 22, 'min_samples_leaf': 12}. Best is trial 24 with value: 177.82094807565807.\u001b[0m\n",
      "\u001b[32m[I 2023-07-04 19:37:45,877]\u001b[0m Trial 53 finished with value: 222.5841287994069 and parameters: {'n_estimators': 503, 'max_depth': 47, 'min_samples_split': 23, 'min_samples_leaf': 12}. Best is trial 24 with value: 177.82094807565807.\u001b[0m\n",
      "\u001b[32m[I 2023-07-04 19:37:46,258]\u001b[0m Trial 52 finished with value: 235.69561427911225 and parameters: {'n_estimators': 519, 'max_depth': 47, 'min_samples_split': 22, 'min_samples_leaf': 13}. Best is trial 24 with value: 177.82094807565807.\u001b[0m\n",
      "\u001b[32m[I 2023-07-04 19:37:46,729]\u001b[0m Trial 55 finished with value: 208.78424342825903 and parameters: {'n_estimators': 498, 'max_depth': 46, 'min_samples_split': 17, 'min_samples_leaf': 11}. Best is trial 24 with value: 177.82094807565807.\u001b[0m\n",
      "\u001b[32m[I 2023-07-04 19:37:47,352]\u001b[0m Trial 54 finished with value: 209.26017886909167 and parameters: {'n_estimators': 529, 'max_depth': 46, 'min_samples_split': 19, 'min_samples_leaf': 11}. Best is trial 24 with value: 177.82094807565807.\u001b[0m\n",
      "\u001b[32m[I 2023-07-04 19:37:47,750]\u001b[0m Trial 56 finished with value: 208.63729405647513 and parameters: {'n_estimators': 497, 'max_depth': 46, 'min_samples_split': 18, 'min_samples_leaf': 11}. Best is trial 24 with value: 177.82094807565807.\u001b[0m\n",
      "\u001b[32m[I 2023-07-04 19:37:48,539]\u001b[0m Trial 46 finished with value: 222.2150305694614 and parameters: {'n_estimators': 897, 'max_depth': 50, 'min_samples_split': 22, 'min_samples_leaf': 12}. Best is trial 24 with value: 177.82094807565807.\u001b[0m\n",
      "\u001b[32m[I 2023-07-04 19:37:49,376]\u001b[0m Trial 57 finished with value: 209.06045654472214 and parameters: {'n_estimators': 518, 'max_depth': 46, 'min_samples_split': 18, 'min_samples_leaf': 11}. Best is trial 24 with value: 177.82094807565807.\u001b[0m\n",
      "\u001b[32m[I 2023-07-04 19:37:50,188]\u001b[0m Trial 49 finished with value: 234.63930742737054 and parameters: {'n_estimators': 911, 'max_depth': 48, 'min_samples_split': 25, 'min_samples_leaf': 13}. Best is trial 24 with value: 177.82094807565807.\u001b[0m\n",
      "\u001b[32m[I 2023-07-04 19:37:51,255]\u001b[0m Trial 48 finished with value: 201.2909871952683 and parameters: {'n_estimators': 905, 'max_depth': 50, 'min_samples_split': 21, 'min_samples_leaf': 10}. Best is trial 24 with value: 177.82094807565807.\u001b[0m\n",
      "\u001b[32m[I 2023-07-04 19:37:51,935]\u001b[0m Trial 58 finished with value: 197.09354754628356 and parameters: {'n_estimators': 497, 'max_depth': 46, 'min_samples_split': 16, 'min_samples_leaf': 10}. Best is trial 24 with value: 177.82094807565807.\u001b[0m\n",
      "\u001b[32m[I 2023-07-04 19:37:52,446]\u001b[0m Trial 60 finished with value: 189.457239504949 and parameters: {'n_estimators': 505, 'max_depth': 46, 'min_samples_split': 19, 'min_samples_leaf': 9}. Best is trial 24 with value: 177.82094807565807.\u001b[0m\n",
      "\u001b[32m[I 2023-07-04 19:37:52,852]\u001b[0m Trial 59 finished with value: 197.37291876146523 and parameters: {'n_estimators': 524, 'max_depth': 46, 'min_samples_split': 14, 'min_samples_leaf': 10}. Best is trial 24 with value: 177.82094807565807.\u001b[0m\n",
      "\u001b[32m[I 2023-07-04 19:37:53,808]\u001b[0m Trial 61 finished with value: 184.4047657283797 and parameters: {'n_estimators': 505, 'max_depth': 46, 'min_samples_split': 13, 'min_samples_leaf': 9}. Best is trial 24 with value: 177.82094807565807.\u001b[0m\n",
      "\u001b[32m[I 2023-07-04 19:37:56,009]\u001b[0m Trial 64 finished with value: 411.99823428428886 and parameters: {'n_estimators': 653, 'max_depth': 42, 'min_samples_split': 74, 'min_samples_leaf': 24}. Best is trial 24 with value: 177.82094807565807.\u001b[0m\n",
      "\u001b[32m[I 2023-07-04 19:37:56,439]\u001b[0m Trial 69 finished with value: 177.10797558548234 and parameters: {'n_estimators': 387, 'max_depth': 41, 'min_samples_split': 14, 'min_samples_leaf': 8}. Best is trial 69 with value: 177.10797558548234.\u001b[0m\n",
      "\u001b[32m[I 2023-07-04 19:37:58,228]\u001b[0m Trial 74 finished with value: 320.95437812564955 and parameters: {'n_estimators': 382, 'max_depth': 42, 'min_samples_split': 14, 'min_samples_leaf': 24}. Best is trial 69 with value: 177.10797558548234.\u001b[0m\n",
      "\u001b[32m[I 2023-07-04 19:37:59,249]\u001b[0m Trial 72 finished with value: 174.76411757543087 and parameters: {'n_estimators': 422, 'max_depth': 41, 'min_samples_split': 16, 'min_samples_leaf': 7}. Best is trial 72 with value: 174.76411757543087.\u001b[0m\n",
      "\u001b[32m[I 2023-07-04 19:37:59,271]\u001b[0m Trial 62 finished with value: 179.98397379055564 and parameters: {'n_estimators': 659, 'max_depth': 46, 'min_samples_split': 17, 'min_samples_leaf': 8}. Best is trial 72 with value: 174.76411757543087.\u001b[0m\n",
      "\u001b[32m[I 2023-07-04 19:37:59,616]\u001b[0m Trial 63 finished with value: 176.86006958692448 and parameters: {'n_estimators': 646, 'max_depth': 46, 'min_samples_split': 12, 'min_samples_leaf': 8}. Best is trial 72 with value: 174.76411757543087.\u001b[0m\n"
     ]
    },
    {
     "name": "stderr",
     "output_type": "stream",
     "text": [
      "\u001b[32m[I 2023-07-04 19:38:00,104]\u001b[0m Trial 73 finished with value: 172.2521594413721 and parameters: {'n_estimators': 389, 'max_depth': 42, 'min_samples_split': 15, 'min_samples_leaf': 7}. Best is trial 73 with value: 172.2521594413721.\u001b[0m\n",
      "\u001b[32m[I 2023-07-04 19:38:00,640]\u001b[0m Trial 65 finished with value: 176.63121192048635 and parameters: {'n_estimators': 624, 'max_depth': 42, 'min_samples_split': 15, 'min_samples_leaf': 8}. Best is trial 73 with value: 172.2521594413721.\u001b[0m\n",
      "\u001b[32m[I 2023-07-04 19:38:00,695]\u001b[0m Trial 71 finished with value: 320.4296862663859 and parameters: {'n_estimators': 645, 'max_depth': 41, 'min_samples_split': 14, 'min_samples_leaf': 25}. Best is trial 73 with value: 172.2521594413721.\u001b[0m\n",
      "\u001b[32m[I 2023-07-04 19:38:01,518]\u001b[0m Trial 75 finished with value: 176.71069871241613 and parameters: {'n_estimators': 404, 'max_depth': 42, 'min_samples_split': 13, 'min_samples_leaf': 8}. Best is trial 73 with value: 172.2521594413721.\u001b[0m\n",
      "\u001b[32m[I 2023-07-04 19:38:01,782]\u001b[0m Trial 66 finished with value: 176.9682158695961 and parameters: {'n_estimators': 652, 'max_depth': 43, 'min_samples_split': 14, 'min_samples_leaf': 8}. Best is trial 73 with value: 172.2521594413721.\u001b[0m\n",
      "\u001b[32m[I 2023-07-04 19:38:02,088]\u001b[0m Trial 67 finished with value: 176.8963459019001 and parameters: {'n_estimators': 655, 'max_depth': 42, 'min_samples_split': 14, 'min_samples_leaf': 8}. Best is trial 73 with value: 172.2521594413721.\u001b[0m\n",
      "\u001b[32m[I 2023-07-04 19:38:02,198]\u001b[0m Trial 68 finished with value: 176.71280046260455 and parameters: {'n_estimators': 634, 'max_depth': 42, 'min_samples_split': 14, 'min_samples_leaf': 8}. Best is trial 73 with value: 172.2521594413721.\u001b[0m\n",
      "\u001b[32m[I 2023-07-04 19:38:02,585]\u001b[0m Trial 76 finished with value: 165.19833481241784 and parameters: {'n_estimators': 417, 'max_depth': 42, 'min_samples_split': 13, 'min_samples_leaf': 6}. Best is trial 76 with value: 165.19833481241784.\u001b[0m\n",
      "\u001b[32m[I 2023-07-04 19:38:03,342]\u001b[0m Trial 70 finished with value: 176.79892598258922 and parameters: {'n_estimators': 645, 'max_depth': 41, 'min_samples_split': 12, 'min_samples_leaf': 8}. Best is trial 76 with value: 165.19833481241784.\u001b[0m\n",
      "\u001b[32m[I 2023-07-04 19:38:03,922]\u001b[0m Trial 77 finished with value: 150.14031924526898 and parameters: {'n_estimators': 395, 'max_depth': 43, 'min_samples_split': 10, 'min_samples_leaf': 2}. Best is trial 77 with value: 150.14031924526898.\u001b[0m\n",
      "\u001b[32m[I 2023-07-04 19:38:04,858]\u001b[0m Trial 80 finished with value: 176.88581523524806 and parameters: {'n_estimators': 272, 'max_depth': 44, 'min_samples_split': 12, 'min_samples_leaf': 8}. Best is trial 77 with value: 150.14031924526898.\u001b[0m\n",
      "\u001b[32m[I 2023-07-04 19:38:05,142]\u001b[0m Trial 79 finished with value: 177.11910918697188 and parameters: {'n_estimators': 379, 'max_depth': 43, 'min_samples_split': 12, 'min_samples_leaf': 8}. Best is trial 77 with value: 150.14031924526898.\u001b[0m\n",
      "\u001b[32m[I 2023-07-04 19:38:05,860]\u001b[0m Trial 81 finished with value: 169.91855593216414 and parameters: {'n_estimators': 269, 'max_depth': 39, 'min_samples_split': 9, 'min_samples_leaf': 7}. Best is trial 77 with value: 150.14031924526898.\u001b[0m\n",
      "\u001b[32m[I 2023-07-04 19:38:06,230]\u001b[0m Trial 78 finished with value: 169.1884239810995 and parameters: {'n_estimators': 439, 'max_depth': 39, 'min_samples_split': 13, 'min_samples_leaf': 7}. Best is trial 77 with value: 150.14031924526898.\u001b[0m\n",
      "\u001b[32m[I 2023-07-04 19:38:06,712]\u001b[0m Trial 83 finished with value: 162.68587131497887 and parameters: {'n_estimators': 291, 'max_depth': 39, 'min_samples_split': 4, 'min_samples_leaf': 6}. Best is trial 77 with value: 150.14031924526898.\u001b[0m\n",
      "\u001b[32m[I 2023-07-04 19:38:07,183]\u001b[0m Trial 85 finished with value: 170.03726298009042 and parameters: {'n_estimators': 268, 'max_depth': 39, 'min_samples_split': 2, 'min_samples_leaf': 7}. Best is trial 77 with value: 150.14031924526898.\u001b[0m\n",
      "\u001b[32m[I 2023-07-04 19:38:09,022]\u001b[0m Trial 91 finished with value: 150.90613355183635 and parameters: {'n_estimators': 286, 'max_depth': 39, 'min_samples_split': 2, 'min_samples_leaf': 4}. Best is trial 77 with value: 150.14031924526898.\u001b[0m\n",
      "\u001b[32m[I 2023-07-04 19:38:09,092]\u001b[0m Trial 89 finished with value: 145.60289140769547 and parameters: {'n_estimators': 296, 'max_depth': 39, 'min_samples_split': 2, 'min_samples_leaf': 3}. Best is trial 89 with value: 145.60289140769547.\u001b[0m\n",
      "\u001b[32m[I 2023-07-04 19:38:09,171]\u001b[0m Trial 88 finished with value: 138.21899098237418 and parameters: {'n_estimators': 286, 'max_depth': 38, 'min_samples_split': 4, 'min_samples_leaf': 2}. Best is trial 88 with value: 138.21899098237418.\u001b[0m\n",
      "\u001b[32m[I 2023-07-04 19:38:09,476]\u001b[0m Trial 82 finished with value: 169.0508034853683 and parameters: {'n_estimators': 452, 'max_depth': 39, 'min_samples_split': 2, 'min_samples_leaf': 7}. Best is trial 88 with value: 138.21899098237418.\u001b[0m\n",
      "\u001b[32m[I 2023-07-04 19:38:09,748]\u001b[0m Trial 84 finished with value: 169.1884239810995 and parameters: {'n_estimators': 439, 'max_depth': 38, 'min_samples_split': 3, 'min_samples_leaf': 7}. Best is trial 88 with value: 138.21899098237418.\u001b[0m\n",
      "\u001b[32m[I 2023-07-04 19:38:09,830]\u001b[0m Trial 92 finished with value: 138.0024074410982 and parameters: {'n_estimators': 275, 'max_depth': 39, 'min_samples_split': 4, 'min_samples_leaf': 2}. Best is trial 92 with value: 138.0024074410982.\u001b[0m\n",
      "\u001b[32m[I 2023-07-04 19:38:09,885]\u001b[0m Trial 86 finished with value: 169.1297605277505 and parameters: {'n_estimators': 436, 'max_depth': 39, 'min_samples_split': 4, 'min_samples_leaf': 7}. Best is trial 92 with value: 138.0024074410982.\u001b[0m\n",
      "\u001b[32m[I 2023-07-04 19:38:10,034]\u001b[0m Trial 93 finished with value: 145.5772228816768 and parameters: {'n_estimators': 288, 'max_depth': 39, 'min_samples_split': 2, 'min_samples_leaf': 3}. Best is trial 92 with value: 138.0024074410982.\u001b[0m\n",
      "\u001b[32m[I 2023-07-04 19:38:10,106]\u001b[0m Trial 87 finished with value: 162.67410544235003 and parameters: {'n_estimators': 424, 'max_depth': 39, 'min_samples_split': 2, 'min_samples_leaf': 6}. Best is trial 92 with value: 138.0024074410982.\u001b[0m\n",
      "\u001b[32m[I 2023-07-04 19:38:10,771]\u001b[0m Trial 98 finished with value: 145.76335506471133 and parameters: {'n_estimators': 286, 'max_depth': 38, 'min_samples_split': 4, 'min_samples_leaf': 3}. Best is trial 92 with value: 138.0024074410982.\u001b[0m\n",
      "\u001b[32m[I 2023-07-04 19:38:10,991]\u001b[0m Trial 99 finished with value: 137.99788533360203 and parameters: {'n_estimators': 272, 'max_depth': 38, 'min_samples_split': 3, 'min_samples_leaf': 2}. Best is trial 99 with value: 137.99788533360203.\u001b[0m\n",
      "\u001b[32m[I 2023-07-04 19:38:11,629]\u001b[0m Trial 95 finished with value: 138.5933212654282 and parameters: {'n_estimators': 442, 'max_depth': 39, 'min_samples_split': 2, 'min_samples_leaf': 2}. Best is trial 99 with value: 137.99788533360203.\u001b[0m\n",
      "\u001b[32m[I 2023-07-04 19:38:11,670]\u001b[0m Trial 94 finished with value: 138.60291605585303 and parameters: {'n_estimators': 439, 'max_depth': 39, 'min_samples_split': 3, 'min_samples_leaf': 2}. Best is trial 99 with value: 137.99788533360203.\u001b[0m\n",
      "\u001b[32m[I 2023-07-04 19:38:11,685]\u001b[0m Trial 97 finished with value: 144.3585990594472 and parameters: {'n_estimators': 444, 'max_depth': 38, 'min_samples_split': 2, 'min_samples_leaf': 3}. Best is trial 99 with value: 137.99788533360203.\u001b[0m\n",
      "\u001b[32m[I 2023-07-04 19:38:11,755]\u001b[0m Trial 90 finished with value: 137.8592561332619 and parameters: {'n_estimators': 573, 'max_depth': 39, 'min_samples_split': 3, 'min_samples_leaf': 2}. Best is trial 90 with value: 137.8592561332619.\u001b[0m\n",
      "\u001b[32m[I 2023-07-04 19:38:11,799]\u001b[0m Trial 96 finished with value: 138.44617140191443 and parameters: {'n_estimators': 445, 'max_depth': 38, 'min_samples_split': 3, 'min_samples_leaf': 2}. Best is trial 90 with value: 137.8592561332619.\u001b[0m\n"
     ]
    }
   ],
   "source": [
    "study = opt.create_study(direction='minimize')\n",
    "study.optimize(objective, n_trials=100, n_jobs=-1)\n",
    "\n",
    "trial = study.best_trial"
   ]
  },
  {
   "cell_type": "code",
   "execution_count": 13,
   "id": "4bc9bfc3",
   "metadata": {},
   "outputs": [],
   "source": [
    "pipe = create_pipeline(**study.best_params)\n",
    "pipe.fit(X_train, y_train)\n",
    "y_pred = pipe.predict(X_test)"
   ]
  },
  {
   "cell_type": "code",
   "execution_count": 14,
   "id": "8c990cc1",
   "metadata": {},
   "outputs": [
    {
     "data": {
      "text/html": [
       "<style>#sk-container-id-1 {color: black;background-color: white;}#sk-container-id-1 pre{padding: 0;}#sk-container-id-1 div.sk-toggleable {background-color: white;}#sk-container-id-1 label.sk-toggleable__label {cursor: pointer;display: block;width: 100%;margin-bottom: 0;padding: 0.3em;box-sizing: border-box;text-align: center;}#sk-container-id-1 label.sk-toggleable__label-arrow:before {content: \"▸\";float: left;margin-right: 0.25em;color: #696969;}#sk-container-id-1 label.sk-toggleable__label-arrow:hover:before {color: black;}#sk-container-id-1 div.sk-estimator:hover label.sk-toggleable__label-arrow:before {color: black;}#sk-container-id-1 div.sk-toggleable__content {max-height: 0;max-width: 0;overflow: hidden;text-align: left;background-color: #f0f8ff;}#sk-container-id-1 div.sk-toggleable__content pre {margin: 0.2em;color: black;border-radius: 0.25em;background-color: #f0f8ff;}#sk-container-id-1 input.sk-toggleable__control:checked~div.sk-toggleable__content {max-height: 200px;max-width: 100%;overflow: auto;}#sk-container-id-1 input.sk-toggleable__control:checked~label.sk-toggleable__label-arrow:before {content: \"▾\";}#sk-container-id-1 div.sk-estimator input.sk-toggleable__control:checked~label.sk-toggleable__label {background-color: #d4ebff;}#sk-container-id-1 div.sk-label input.sk-toggleable__control:checked~label.sk-toggleable__label {background-color: #d4ebff;}#sk-container-id-1 input.sk-hidden--visually {border: 0;clip: rect(1px 1px 1px 1px);clip: rect(1px, 1px, 1px, 1px);height: 1px;margin: -1px;overflow: hidden;padding: 0;position: absolute;width: 1px;}#sk-container-id-1 div.sk-estimator {font-family: monospace;background-color: #f0f8ff;border: 1px dotted black;border-radius: 0.25em;box-sizing: border-box;margin-bottom: 0.5em;}#sk-container-id-1 div.sk-estimator:hover {background-color: #d4ebff;}#sk-container-id-1 div.sk-parallel-item::after {content: \"\";width: 100%;border-bottom: 1px solid gray;flex-grow: 1;}#sk-container-id-1 div.sk-label:hover label.sk-toggleable__label {background-color: #d4ebff;}#sk-container-id-1 div.sk-serial::before {content: \"\";position: absolute;border-left: 1px solid gray;box-sizing: border-box;top: 0;bottom: 0;left: 50%;z-index: 0;}#sk-container-id-1 div.sk-serial {display: flex;flex-direction: column;align-items: center;background-color: white;padding-right: 0.2em;padding-left: 0.2em;position: relative;}#sk-container-id-1 div.sk-item {position: relative;z-index: 1;}#sk-container-id-1 div.sk-parallel {display: flex;align-items: stretch;justify-content: center;background-color: white;position: relative;}#sk-container-id-1 div.sk-item::before, #sk-container-id-1 div.sk-parallel-item::before {content: \"\";position: absolute;border-left: 1px solid gray;box-sizing: border-box;top: 0;bottom: 0;left: 50%;z-index: -1;}#sk-container-id-1 div.sk-parallel-item {display: flex;flex-direction: column;z-index: 1;position: relative;background-color: white;}#sk-container-id-1 div.sk-parallel-item:first-child::after {align-self: flex-end;width: 50%;}#sk-container-id-1 div.sk-parallel-item:last-child::after {align-self: flex-start;width: 50%;}#sk-container-id-1 div.sk-parallel-item:only-child::after {width: 0;}#sk-container-id-1 div.sk-dashed-wrapped {border: 1px dashed gray;margin: 0 0.4em 0.5em 0.4em;box-sizing: border-box;padding-bottom: 0.4em;background-color: white;}#sk-container-id-1 div.sk-label label {font-family: monospace;font-weight: bold;display: inline-block;line-height: 1.2em;}#sk-container-id-1 div.sk-label-container {text-align: center;}#sk-container-id-1 div.sk-container {/* jupyter's `normalize.less` sets `[hidden] { display: none; }` but bootstrap.min.css set `[hidden] { display: none !important; }` so we also need the `!important` here to be able to override the default hidden behavior on the sphinx rendered scikit-learn.org. See: https://github.com/scikit-learn/scikit-learn/issues/21755 */display: inline-block !important;position: relative;}#sk-container-id-1 div.sk-text-repr-fallback {display: none;}</style><div id=\"sk-container-id-1\" class=\"sk-top-container\"><div class=\"sk-text-repr-fallback\"><pre>Pipeline(steps=[(&#x27;columntransformer&#x27;,\n",
       "                 ColumnTransformer(remainder=&#x27;passthrough&#x27;,\n",
       "                                   transformers=[(&#x27;num&#x27;,\n",
       "                                                  Pipeline(steps=[(&#x27;standardscaler&#x27;,\n",
       "                                                                   StandardScaler())]),\n",
       "                                                  [&#x27;X1&#x27;, &#x27;X2&#x27;, &#x27;X3&#x27;, &#x27;X4&#x27;, &#x27;X5&#x27;,\n",
       "                                                   &#x27;X7&#x27;])])),\n",
       "                (&#x27;randomforestregressor&#x27;,\n",
       "                 RandomForestRegressor(max_depth=39, min_samples_leaf=2,\n",
       "                                       min_samples_split=3, n_estimators=573,\n",
       "                                       random_state=42))])</pre><b>In a Jupyter environment, please rerun this cell to show the HTML representation or trust the notebook. <br />On GitHub, the HTML representation is unable to render, please try loading this page with nbviewer.org.</b></div><div class=\"sk-container\" hidden><div class=\"sk-item sk-dashed-wrapped\"><div class=\"sk-label-container\"><div class=\"sk-label sk-toggleable\"><input class=\"sk-toggleable__control sk-hidden--visually\" id=\"sk-estimator-id-1\" type=\"checkbox\" ><label for=\"sk-estimator-id-1\" class=\"sk-toggleable__label sk-toggleable__label-arrow\">Pipeline</label><div class=\"sk-toggleable__content\"><pre>Pipeline(steps=[(&#x27;columntransformer&#x27;,\n",
       "                 ColumnTransformer(remainder=&#x27;passthrough&#x27;,\n",
       "                                   transformers=[(&#x27;num&#x27;,\n",
       "                                                  Pipeline(steps=[(&#x27;standardscaler&#x27;,\n",
       "                                                                   StandardScaler())]),\n",
       "                                                  [&#x27;X1&#x27;, &#x27;X2&#x27;, &#x27;X3&#x27;, &#x27;X4&#x27;, &#x27;X5&#x27;,\n",
       "                                                   &#x27;X7&#x27;])])),\n",
       "                (&#x27;randomforestregressor&#x27;,\n",
       "                 RandomForestRegressor(max_depth=39, min_samples_leaf=2,\n",
       "                                       min_samples_split=3, n_estimators=573,\n",
       "                                       random_state=42))])</pre></div></div></div><div class=\"sk-serial\"><div class=\"sk-item sk-dashed-wrapped\"><div class=\"sk-label-container\"><div class=\"sk-label sk-toggleable\"><input class=\"sk-toggleable__control sk-hidden--visually\" id=\"sk-estimator-id-2\" type=\"checkbox\" ><label for=\"sk-estimator-id-2\" class=\"sk-toggleable__label sk-toggleable__label-arrow\">columntransformer: ColumnTransformer</label><div class=\"sk-toggleable__content\"><pre>ColumnTransformer(remainder=&#x27;passthrough&#x27;,\n",
       "                  transformers=[(&#x27;num&#x27;,\n",
       "                                 Pipeline(steps=[(&#x27;standardscaler&#x27;,\n",
       "                                                  StandardScaler())]),\n",
       "                                 [&#x27;X1&#x27;, &#x27;X2&#x27;, &#x27;X3&#x27;, &#x27;X4&#x27;, &#x27;X5&#x27;, &#x27;X7&#x27;])])</pre></div></div></div><div class=\"sk-parallel\"><div class=\"sk-parallel-item\"><div class=\"sk-item\"><div class=\"sk-label-container\"><div class=\"sk-label sk-toggleable\"><input class=\"sk-toggleable__control sk-hidden--visually\" id=\"sk-estimator-id-3\" type=\"checkbox\" ><label for=\"sk-estimator-id-3\" class=\"sk-toggleable__label sk-toggleable__label-arrow\">num</label><div class=\"sk-toggleable__content\"><pre>[&#x27;X1&#x27;, &#x27;X2&#x27;, &#x27;X3&#x27;, &#x27;X4&#x27;, &#x27;X5&#x27;, &#x27;X7&#x27;]</pre></div></div></div><div class=\"sk-serial\"><div class=\"sk-item\"><div class=\"sk-serial\"><div class=\"sk-item\"><div class=\"sk-estimator sk-toggleable\"><input class=\"sk-toggleable__control sk-hidden--visually\" id=\"sk-estimator-id-4\" type=\"checkbox\" ><label for=\"sk-estimator-id-4\" class=\"sk-toggleable__label sk-toggleable__label-arrow\">StandardScaler</label><div class=\"sk-toggleable__content\"><pre>StandardScaler()</pre></div></div></div></div></div></div></div></div><div class=\"sk-parallel-item\"><div class=\"sk-item\"><div class=\"sk-label-container\"><div class=\"sk-label sk-toggleable\"><input class=\"sk-toggleable__control sk-hidden--visually\" id=\"sk-estimator-id-5\" type=\"checkbox\" ><label for=\"sk-estimator-id-5\" class=\"sk-toggleable__label sk-toggleable__label-arrow\">remainder</label><div class=\"sk-toggleable__content\"><pre>[&#x27;X6&#x27;]</pre></div></div></div><div class=\"sk-serial\"><div class=\"sk-item\"><div class=\"sk-estimator sk-toggleable\"><input class=\"sk-toggleable__control sk-hidden--visually\" id=\"sk-estimator-id-6\" type=\"checkbox\" ><label for=\"sk-estimator-id-6\" class=\"sk-toggleable__label sk-toggleable__label-arrow\">passthrough</label><div class=\"sk-toggleable__content\"><pre>passthrough</pre></div></div></div></div></div></div></div></div><div class=\"sk-item\"><div class=\"sk-estimator sk-toggleable\"><input class=\"sk-toggleable__control sk-hidden--visually\" id=\"sk-estimator-id-7\" type=\"checkbox\" ><label for=\"sk-estimator-id-7\" class=\"sk-toggleable__label sk-toggleable__label-arrow\">RandomForestRegressor</label><div class=\"sk-toggleable__content\"><pre>RandomForestRegressor(max_depth=39, min_samples_leaf=2, min_samples_split=3,\n",
       "                      n_estimators=573, random_state=42)</pre></div></div></div></div></div></div></div>"
      ],
      "text/plain": [
       "Pipeline(steps=[('columntransformer',\n",
       "                 ColumnTransformer(remainder='passthrough',\n",
       "                                   transformers=[('num',\n",
       "                                                  Pipeline(steps=[('standardscaler',\n",
       "                                                                   StandardScaler())]),\n",
       "                                                  ['X1', 'X2', 'X3', 'X4', 'X5',\n",
       "                                                   'X7'])])),\n",
       "                ('randomforestregressor',\n",
       "                 RandomForestRegressor(max_depth=39, min_samples_leaf=2,\n",
       "                                       min_samples_split=3, n_estimators=573,\n",
       "                                       random_state=42))])"
      ]
     },
     "execution_count": 14,
     "metadata": {},
     "output_type": "execute_result"
    }
   ],
   "source": [
    "pipe"
   ]
  },
  {
   "cell_type": "code",
   "execution_count": 15,
   "id": "62a4e25c",
   "metadata": {},
   "outputs": [
    {
     "name": "stdout",
     "output_type": "stream",
     "text": [
      "A RMSE é: 137.8592561332619\n",
      "A R2 é: 0.9880903327896267\n"
     ]
    }
   ],
   "source": [
    "print(f\"A RMSE é: {mean_squared_error(y_test, y_pred, squared=False)}\\nA R2 é: {r2_score(y_test, y_pred)}\"\n",
    "     )"
   ]
  },
  {
   "cell_type": "code",
   "execution_count": 16,
   "id": "d2935dec",
   "metadata": {},
   "outputs": [
    {
     "data": {
      "text/plain": [
       "array([2.01329398e-02, 4.87168952e-01, 2.31014833e-03, 4.14472325e-03,\n",
       "       1.09691017e-03, 4.84689214e-01, 4.57112196e-04])"
      ]
     },
     "execution_count": 16,
     "metadata": {},
     "output_type": "execute_result"
    }
   ],
   "source": [
    "pipe.named_steps[\"randomforestregressor\"].feature_importances_"
   ]
  },
  {
   "cell_type": "code",
   "execution_count": 17,
   "id": "c4a7778f",
   "metadata": {},
   "outputs": [
    {
     "data": {
      "text/plain": [
       "array(['num__X1', 'num__X2', 'num__X3', 'num__X4', 'num__X5', 'num__X7',\n",
       "       'remainder__X6'], dtype=object)"
      ]
     },
     "execution_count": 17,
     "metadata": {},
     "output_type": "execute_result"
    }
   ],
   "source": [
    "pipe[0].get_feature_names_out()"
   ]
  },
  {
   "cell_type": "code",
   "execution_count": 18,
   "id": "04d2f912",
   "metadata": {},
   "outputs": [
    {
     "name": "stdout",
     "output_type": "stream",
     "text": [
      "A Feature num__X2 tem: 0.49% de importancia para a target\n",
      "A Feature num__X7 tem: 0.48% de importancia para a target\n",
      "A Feature num__X1 tem: 0.02% de importancia para a target\n",
      "A Feature num__X4 tem: 0.00% de importancia para a target\n",
      "A Feature num__X3 tem: 0.00% de importancia para a target\n",
      "A Feature num__X5 tem: 0.00% de importancia para a target\n",
      "A Feature remainder__X6 tem: 0.00% de importancia para a target\n"
     ]
    }
   ],
   "source": [
    "ziped_feat_importance = zip(pipe.named_steps[\"randomforestregressor\"].feature_importances_, pipe[0].get_feature_names_out())\n",
    "ziped_feat_importance = sorted(ziped_feat_importance, key=lambda x: x[0], reverse=True)\n",
    "for importance_tuple in ziped_feat_importance:\n",
    "    importance, column = importance_tuple\n",
    "    print(f\"A Feature {column} tem: {importance:.2f}% de importancia para a target\")"
   ]
  },
  {
   "cell_type": "code",
   "execution_count": 19,
   "id": "d2bcabdd",
   "metadata": {},
   "outputs": [
    {
     "data": {
      "text/plain": [
       "target    1.000000\n",
       "X1        0.514485\n",
       "X2        0.938318\n",
       "X3        0.057441\n",
       "X4       -0.011001\n",
       "X5       -0.023407\n",
       "X6        0.040508\n",
       "X7        0.938318\n",
       "Name: target, dtype: float64"
      ]
     },
     "execution_count": 19,
     "metadata": {},
     "output_type": "execute_result"
    }
   ],
   "source": [
    "df_train.corr()[\"target\"][:]"
   ]
  }
 ],
 "metadata": {
  "kernelspec": {
   "display_name": "Python 3 (ipykernel)",
   "language": "python",
   "name": "python3"
  },
  "language_info": {
   "codemirror_mode": {
    "name": "ipython",
    "version": 3
   },
   "file_extension": ".py",
   "mimetype": "text/x-python",
   "name": "python",
   "nbconvert_exporter": "python",
   "pygments_lexer": "ipython3",
   "version": "3.10.9"
  }
 },
 "nbformat": 4,
 "nbformat_minor": 5
}
