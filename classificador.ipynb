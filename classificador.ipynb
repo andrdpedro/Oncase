{
 "cells": [
  {
   "cell_type": "code",
   "execution_count": 1,
   "id": "d0d49783",
   "metadata": {},
   "outputs": [],
   "source": [
    "import numpy as np\n",
    "import optuna as opt\n",
    "import pandas as pd\n",
    "import seaborn as sns\n",
    "from sklearn.ensemble import RandomForestClassifier\n",
    "from sklearn.metrics import classification_report, precision_score"
   ]
  },
  {
   "cell_type": "code",
   "execution_count": 2,
   "id": "92771894",
   "metadata": {},
   "outputs": [],
   "source": [
    "df_train = pd.read_csv(\"classification_data/classification_train.csv\")\n",
    "df_test = pd.read_csv(\"classification_data/classification_test.csv\")"
   ]
  },
  {
   "cell_type": "code",
   "execution_count": 3,
   "id": "1d4d71eb",
   "metadata": {},
   "outputs": [
    {
     "data": {
      "text/html": [
       "<div>\n",
       "<style scoped>\n",
       "    .dataframe tbody tr th:only-of-type {\n",
       "        vertical-align: middle;\n",
       "    }\n",
       "\n",
       "    .dataframe tbody tr th {\n",
       "        vertical-align: top;\n",
       "    }\n",
       "\n",
       "    .dataframe thead th {\n",
       "        text-align: right;\n",
       "    }\n",
       "</style>\n",
       "<table border=\"1\" class=\"dataframe\">\n",
       "  <thead>\n",
       "    <tr style=\"text-align: right;\">\n",
       "      <th></th>\n",
       "      <th>x1</th>\n",
       "      <th>x2</th>\n",
       "      <th>target</th>\n",
       "    </tr>\n",
       "  </thead>\n",
       "  <tbody>\n",
       "    <tr>\n",
       "      <th>0</th>\n",
       "      <td>1.934224</td>\n",
       "      <td>-0.111822</td>\n",
       "      <td>1</td>\n",
       "    </tr>\n",
       "    <tr>\n",
       "      <th>1</th>\n",
       "      <td>1.767383</td>\n",
       "      <td>-0.976402</td>\n",
       "      <td>1</td>\n",
       "    </tr>\n",
       "    <tr>\n",
       "      <th>2</th>\n",
       "      <td>0.937101</td>\n",
       "      <td>-0.085633</td>\n",
       "      <td>1</td>\n",
       "    </tr>\n",
       "    <tr>\n",
       "      <th>3</th>\n",
       "      <td>1.340732</td>\n",
       "      <td>0.166960</td>\n",
       "      <td>1</td>\n",
       "    </tr>\n",
       "    <tr>\n",
       "      <th>4</th>\n",
       "      <td>-0.199901</td>\n",
       "      <td>-0.155204</td>\n",
       "      <td>1</td>\n",
       "    </tr>\n",
       "    <tr>\n",
       "      <th>...</th>\n",
       "      <td>...</td>\n",
       "      <td>...</td>\n",
       "      <td>...</td>\n",
       "    </tr>\n",
       "    <tr>\n",
       "      <th>665</th>\n",
       "      <td>0.690181</td>\n",
       "      <td>-0.800060</td>\n",
       "      <td>1</td>\n",
       "    </tr>\n",
       "    <tr>\n",
       "      <th>666</th>\n",
       "      <td>1.043712</td>\n",
       "      <td>-0.212964</td>\n",
       "      <td>1</td>\n",
       "    </tr>\n",
       "    <tr>\n",
       "      <th>667</th>\n",
       "      <td>1.821542</td>\n",
       "      <td>-0.406377</td>\n",
       "      <td>1</td>\n",
       "    </tr>\n",
       "    <tr>\n",
       "      <th>668</th>\n",
       "      <td>0.031938</td>\n",
       "      <td>1.424103</td>\n",
       "      <td>0</td>\n",
       "    </tr>\n",
       "    <tr>\n",
       "      <th>669</th>\n",
       "      <td>0.803854</td>\n",
       "      <td>0.272866</td>\n",
       "      <td>0</td>\n",
       "    </tr>\n",
       "  </tbody>\n",
       "</table>\n",
       "<p>670 rows × 3 columns</p>\n",
       "</div>"
      ],
      "text/plain": [
       "           x1        x2  target\n",
       "0    1.934224 -0.111822       1\n",
       "1    1.767383 -0.976402       1\n",
       "2    0.937101 -0.085633       1\n",
       "3    1.340732  0.166960       1\n",
       "4   -0.199901 -0.155204       1\n",
       "..        ...       ...     ...\n",
       "665  0.690181 -0.800060       1\n",
       "666  1.043712 -0.212964       1\n",
       "667  1.821542 -0.406377       1\n",
       "668  0.031938  1.424103       0\n",
       "669  0.803854  0.272866       0\n",
       "\n",
       "[670 rows x 3 columns]"
      ]
     },
     "execution_count": 3,
     "metadata": {},
     "output_type": "execute_result"
    }
   ],
   "source": [
    "df_train"
   ]
  },
  {
   "cell_type": "code",
   "execution_count": 4,
   "id": "ce962ac8",
   "metadata": {},
   "outputs": [
    {
     "data": {
      "text/html": [
       "<div>\n",
       "<style scoped>\n",
       "    .dataframe tbody tr th:only-of-type {\n",
       "        vertical-align: middle;\n",
       "    }\n",
       "\n",
       "    .dataframe tbody tr th {\n",
       "        vertical-align: top;\n",
       "    }\n",
       "\n",
       "    .dataframe thead th {\n",
       "        text-align: right;\n",
       "    }\n",
       "</style>\n",
       "<table border=\"1\" class=\"dataframe\">\n",
       "  <thead>\n",
       "    <tr style=\"text-align: right;\">\n",
       "      <th></th>\n",
       "      <th>x1</th>\n",
       "      <th>x2</th>\n",
       "      <th>target</th>\n",
       "    </tr>\n",
       "  </thead>\n",
       "  <tbody>\n",
       "    <tr>\n",
       "      <th>0</th>\n",
       "      <td>1.114204</td>\n",
       "      <td>-0.434321</td>\n",
       "      <td>1</td>\n",
       "    </tr>\n",
       "    <tr>\n",
       "      <th>1</th>\n",
       "      <td>-1.238490</td>\n",
       "      <td>0.521390</td>\n",
       "      <td>0</td>\n",
       "    </tr>\n",
       "    <tr>\n",
       "      <th>2</th>\n",
       "      <td>-0.091781</td>\n",
       "      <td>-0.169471</td>\n",
       "      <td>1</td>\n",
       "    </tr>\n",
       "    <tr>\n",
       "      <th>3</th>\n",
       "      <td>0.298820</td>\n",
       "      <td>0.076368</td>\n",
       "      <td>0</td>\n",
       "    </tr>\n",
       "    <tr>\n",
       "      <th>4</th>\n",
       "      <td>-0.265779</td>\n",
       "      <td>0.479812</td>\n",
       "      <td>1</td>\n",
       "    </tr>\n",
       "    <tr>\n",
       "      <th>...</th>\n",
       "      <td>...</td>\n",
       "      <td>...</td>\n",
       "      <td>...</td>\n",
       "    </tr>\n",
       "    <tr>\n",
       "      <th>325</th>\n",
       "      <td>0.201339</td>\n",
       "      <td>-0.256856</td>\n",
       "      <td>1</td>\n",
       "    </tr>\n",
       "    <tr>\n",
       "      <th>326</th>\n",
       "      <td>-0.877304</td>\n",
       "      <td>0.161447</td>\n",
       "      <td>0</td>\n",
       "    </tr>\n",
       "    <tr>\n",
       "      <th>327</th>\n",
       "      <td>0.297281</td>\n",
       "      <td>0.760907</td>\n",
       "      <td>0</td>\n",
       "    </tr>\n",
       "    <tr>\n",
       "      <th>328</th>\n",
       "      <td>0.032457</td>\n",
       "      <td>0.297988</td>\n",
       "      <td>0</td>\n",
       "    </tr>\n",
       "    <tr>\n",
       "      <th>329</th>\n",
       "      <td>0.157716</td>\n",
       "      <td>0.569834</td>\n",
       "      <td>1</td>\n",
       "    </tr>\n",
       "  </tbody>\n",
       "</table>\n",
       "<p>330 rows × 3 columns</p>\n",
       "</div>"
      ],
      "text/plain": [
       "           x1        x2  target\n",
       "0    1.114204 -0.434321       1\n",
       "1   -1.238490  0.521390       0\n",
       "2   -0.091781 -0.169471       1\n",
       "3    0.298820  0.076368       0\n",
       "4   -0.265779  0.479812       1\n",
       "..        ...       ...     ...\n",
       "325  0.201339 -0.256856       1\n",
       "326 -0.877304  0.161447       0\n",
       "327  0.297281  0.760907       0\n",
       "328  0.032457  0.297988       0\n",
       "329  0.157716  0.569834       1\n",
       "\n",
       "[330 rows x 3 columns]"
      ]
     },
     "execution_count": 4,
     "metadata": {},
     "output_type": "execute_result"
    }
   ],
   "source": [
    "df_test"
   ]
  },
  {
   "cell_type": "code",
   "execution_count": 5,
   "id": "43bf908d",
   "metadata": {},
   "outputs": [
    {
     "data": {
      "text/html": [
       "<div>\n",
       "<style scoped>\n",
       "    .dataframe tbody tr th:only-of-type {\n",
       "        vertical-align: middle;\n",
       "    }\n",
       "\n",
       "    .dataframe tbody tr th {\n",
       "        vertical-align: top;\n",
       "    }\n",
       "\n",
       "    .dataframe thead th {\n",
       "        text-align: right;\n",
       "    }\n",
       "</style>\n",
       "<table border=\"1\" class=\"dataframe\">\n",
       "  <thead>\n",
       "    <tr style=\"text-align: right;\">\n",
       "      <th></th>\n",
       "      <th>x1</th>\n",
       "      <th>x2</th>\n",
       "      <th>target</th>\n",
       "    </tr>\n",
       "  </thead>\n",
       "  <tbody>\n",
       "    <tr>\n",
       "      <th>count</th>\n",
       "      <td>670.000000</td>\n",
       "      <td>670.000000</td>\n",
       "      <td>670.000000</td>\n",
       "    </tr>\n",
       "    <tr>\n",
       "      <th>mean</th>\n",
       "      <td>0.481824</td>\n",
       "      <td>0.262611</td>\n",
       "      <td>0.505970</td>\n",
       "    </tr>\n",
       "    <tr>\n",
       "      <th>std</th>\n",
       "      <td>0.914772</td>\n",
       "      <td>0.615023</td>\n",
       "      <td>0.500338</td>\n",
       "    </tr>\n",
       "    <tr>\n",
       "      <th>min</th>\n",
       "      <td>-1.939767</td>\n",
       "      <td>-1.313970</td>\n",
       "      <td>0.000000</td>\n",
       "    </tr>\n",
       "    <tr>\n",
       "      <th>25%</th>\n",
       "      <td>-0.169615</td>\n",
       "      <td>-0.159189</td>\n",
       "      <td>0.000000</td>\n",
       "    </tr>\n",
       "    <tr>\n",
       "      <th>50%</th>\n",
       "      <td>0.492489</td>\n",
       "      <td>0.275538</td>\n",
       "      <td>1.000000</td>\n",
       "    </tr>\n",
       "    <tr>\n",
       "      <th>75%</th>\n",
       "      <td>1.159680</td>\n",
       "      <td>0.717589</td>\n",
       "      <td>1.000000</td>\n",
       "    </tr>\n",
       "    <tr>\n",
       "      <th>max</th>\n",
       "      <td>2.590410</td>\n",
       "      <td>1.904169</td>\n",
       "      <td>1.000000</td>\n",
       "    </tr>\n",
       "  </tbody>\n",
       "</table>\n",
       "</div>"
      ],
      "text/plain": [
       "               x1          x2      target\n",
       "count  670.000000  670.000000  670.000000\n",
       "mean     0.481824    0.262611    0.505970\n",
       "std      0.914772    0.615023    0.500338\n",
       "min     -1.939767   -1.313970    0.000000\n",
       "25%     -0.169615   -0.159189    0.000000\n",
       "50%      0.492489    0.275538    1.000000\n",
       "75%      1.159680    0.717589    1.000000\n",
       "max      2.590410    1.904169    1.000000"
      ]
     },
     "execution_count": 5,
     "metadata": {},
     "output_type": "execute_result"
    }
   ],
   "source": [
    "df_train.describe()"
   ]
  },
  {
   "cell_type": "code",
   "execution_count": 6,
   "id": "ef9d6bad",
   "metadata": {},
   "outputs": [
    {
     "data": {
      "text/html": [
       "<div>\n",
       "<style scoped>\n",
       "    .dataframe tbody tr th:only-of-type {\n",
       "        vertical-align: middle;\n",
       "    }\n",
       "\n",
       "    .dataframe tbody tr th {\n",
       "        vertical-align: top;\n",
       "    }\n",
       "\n",
       "    .dataframe thead th {\n",
       "        text-align: right;\n",
       "    }\n",
       "</style>\n",
       "<table border=\"1\" class=\"dataframe\">\n",
       "  <thead>\n",
       "    <tr style=\"text-align: right;\">\n",
       "      <th></th>\n",
       "      <th>x1</th>\n",
       "      <th>x2</th>\n",
       "      <th>target</th>\n",
       "    </tr>\n",
       "  </thead>\n",
       "  <tbody>\n",
       "    <tr>\n",
       "      <th>count</th>\n",
       "      <td>330.000000</td>\n",
       "      <td>330.000000</td>\n",
       "      <td>330.000000</td>\n",
       "    </tr>\n",
       "    <tr>\n",
       "      <th>mean</th>\n",
       "      <td>0.472470</td>\n",
       "      <td>0.266104</td>\n",
       "      <td>0.487879</td>\n",
       "    </tr>\n",
       "    <tr>\n",
       "      <th>std</th>\n",
       "      <td>0.986760</td>\n",
       "      <td>0.583819</td>\n",
       "      <td>0.500612</td>\n",
       "    </tr>\n",
       "    <tr>\n",
       "      <th>min</th>\n",
       "      <td>-1.693028</td>\n",
       "      <td>-1.031435</td>\n",
       "      <td>0.000000</td>\n",
       "    </tr>\n",
       "    <tr>\n",
       "      <th>25%</th>\n",
       "      <td>-0.264152</td>\n",
       "      <td>-0.190844</td>\n",
       "      <td>0.000000</td>\n",
       "    </tr>\n",
       "    <tr>\n",
       "      <th>50%</th>\n",
       "      <td>0.503077</td>\n",
       "      <td>0.240346</td>\n",
       "      <td>0.000000</td>\n",
       "    </tr>\n",
       "    <tr>\n",
       "      <th>75%</th>\n",
       "      <td>1.218472</td>\n",
       "      <td>0.680558</td>\n",
       "      <td>1.000000</td>\n",
       "    </tr>\n",
       "    <tr>\n",
       "      <th>max</th>\n",
       "      <td>2.528373</td>\n",
       "      <td>1.783693</td>\n",
       "      <td>1.000000</td>\n",
       "    </tr>\n",
       "  </tbody>\n",
       "</table>\n",
       "</div>"
      ],
      "text/plain": [
       "               x1          x2      target\n",
       "count  330.000000  330.000000  330.000000\n",
       "mean     0.472470    0.266104    0.487879\n",
       "std      0.986760    0.583819    0.500612\n",
       "min     -1.693028   -1.031435    0.000000\n",
       "25%     -0.264152   -0.190844    0.000000\n",
       "50%      0.503077    0.240346    0.000000\n",
       "75%      1.218472    0.680558    1.000000\n",
       "max      2.528373    1.783693    1.000000"
      ]
     },
     "execution_count": 6,
     "metadata": {},
     "output_type": "execute_result"
    }
   ],
   "source": [
    "df_test.describe()"
   ]
  },
  {
   "cell_type": "code",
   "execution_count": 7,
   "id": "d280a712",
   "metadata": {},
   "outputs": [
    {
     "data": {
      "text/plain": [
       "x1        0\n",
       "x2        0\n",
       "target    0\n",
       "dtype: int64"
      ]
     },
     "execution_count": 7,
     "metadata": {},
     "output_type": "execute_result"
    }
   ],
   "source": [
    "df_train.isna().sum()"
   ]
  },
  {
   "cell_type": "code",
   "execution_count": 8,
   "id": "f1d87b28",
   "metadata": {},
   "outputs": [
    {
     "data": {
      "text/plain": [
       "x1        0\n",
       "x2        0\n",
       "target    0\n",
       "dtype: int64"
      ]
     },
     "execution_count": 8,
     "metadata": {},
     "output_type": "execute_result"
    }
   ],
   "source": [
    "df_test.isna().sum()"
   ]
  },
  {
   "cell_type": "code",
   "execution_count": 9,
   "id": "4a83fe3f",
   "metadata": {},
   "outputs": [
    {
     "data": {
      "text/plain": [
       "<Axes: xlabel='target', ylabel='count'>"
      ]
     },
     "execution_count": 9,
     "metadata": {},
     "output_type": "execute_result"
    },
    {
     "data": {
      "image/png": "[encoded data removed]",
      "text/plain": [
       "<Figure size 640x480 with 1 Axes>"
      ]
     },
     "metadata": {},
     "output_type": "display_data"
    }
   ],
   "source": [
    "sns.countplot(df_train, x=\"target\")"
   ]
  },
  {
   "cell_type": "code",
   "execution_count": 10,
   "id": "6bf5078d",
   "metadata": {},
   "outputs": [],
   "source": [
    "X_train = df_train.iloc[:, :-1]\n",
    "y_train = df_train.iloc[:, -1]\n",
    "X_test = df_test.iloc[:, :-1]\n",
    "y_test = df_test.iloc[:, -1]"
   ]
  },
  {
   "cell_type": "code",
   "execution_count": 11,
   "id": "0069801e",
   "metadata": {},
   "outputs": [],
   "source": [
    "def objective(trial):\n",
    "    params = {\n",
    "        'n_estimators': trial.suggest_int('n_estimators', 50, 1000),\n",
    "        'max_depth': trial.suggest_int('max_depth', 4, 50),\n",
    "        'min_samples_split': trial.suggest_int('min_samples_split', 2, 150),\n",
    "        'min_samples_leaf': trial.suggest_int('min_samples_leaf', 2, 60),\n",
    "    }\n",
    "    \n",
    "    clf = RandomForestClassifier(random_state=42, **params)\n",
    "    clf.fit(X_train, y_train)\n",
    "    y_pred = clf.predict(X_test)\n",
    "    \n",
    "    return precision_score(y_test, y_pred)"
   ]
  },
  {
   "cell_type": "code",
   "execution_count": 12,
   "id": "ab2d23d6",
   "metadata": {},
   "outputs": [
    {
     "name": "stderr",
     "output_type": "stream",
     "text": [
      "\u001b[32m[I 2023-07-04 19:37:46,350]\u001b[0m A new study created in memory with name: no-name-8a600502-8315-4e57-b1e7-1ae932fa0315\u001b[0m\n",
      "\u001b[32m[I 2023-07-04 19:37:49,853]\u001b[0m Trial 5 finished with value: 0.8 and parameters: {'n_estimators': 70, 'max_depth': 8, 'min_samples_split': 93, 'min_samples_leaf': 24}. Best is trial 5 with value: 0.8.\u001b[0m\n",
      "\u001b[32m[I 2023-07-04 19:37:51,858]\u001b[0m Trial 1 finished with value: 0.7906976744186046 and parameters: {'n_estimators': 164, 'max_depth': 35, 'min_samples_split': 45, 'min_samples_leaf': 55}. Best is trial 5 with value: 0.8.\u001b[0m\n",
      "\u001b[32m[I 2023-07-04 19:37:52,515]\u001b[0m Trial 6 finished with value: 0.8011049723756906 and parameters: {'n_estimators': 193, 'max_depth': 33, 'min_samples_split': 117, 'min_samples_leaf': 12}. Best is trial 6 with value: 0.8011049723756906.\u001b[0m\n",
      "\u001b[32m[I 2023-07-04 19:37:54,160]\u001b[0m Trial 9 finished with value: 0.8011695906432749 and parameters: {'n_estimators': 263, 'max_depth': 22, 'min_samples_split': 94, 'min_samples_leaf': 48}. Best is trial 9 with value: 0.8011695906432749.\u001b[0m\n",
      "\u001b[32m[I 2023-07-04 19:37:54,918]\u001b[0m Trial 12 finished with value: 0.8304093567251462 and parameters: {'n_estimators': 254, 'max_depth': 9, 'min_samples_split': 31, 'min_samples_leaf': 28}. Best is trial 12 with value: 0.8304093567251462.\u001b[0m\n",
      "\u001b[32m[I 2023-07-04 19:37:55,185]\u001b[0m Trial 7 finished with value: 0.8255813953488372 and parameters: {'n_estimators': 265, 'max_depth': 34, 'min_samples_split': 24, 'min_samples_leaf': 27}. Best is trial 12 with value: 0.8304093567251462.\u001b[0m\n",
      "\u001b[32m[I 2023-07-04 19:37:55,474]\u001b[0m Trial 4 finished with value: 0.7953216374269005 and parameters: {'n_estimators': 304, 'max_depth': 28, 'min_samples_split': 44, 'min_samples_leaf': 52}. Best is trial 12 with value: 0.8304093567251462.\u001b[0m\n",
      "\u001b[32m[I 2023-07-04 19:37:55,813]\u001b[0m Trial 17 finished with value: 0.8156424581005587 and parameters: {'n_estimators': 138, 'max_depth': 33, 'min_samples_split': 77, 'min_samples_leaf': 19}. Best is trial 12 with value: 0.8304093567251462.\u001b[0m\n",
      "\u001b[32m[I 2023-07-04 19:37:59,297]\u001b[0m Trial 3 finished with value: 0.8011695906432749 and parameters: {'n_estimators': 482, 'max_depth': 20, 'min_samples_split': 89, 'min_samples_leaf': 38}. Best is trial 12 with value: 0.8304093567251462.\u001b[0m\n",
      "\u001b[32m[I 2023-07-04 19:38:00,087]\u001b[0m Trial 20 finished with value: 0.8023255813953488 and parameters: {'n_estimators': 221, 'max_depth': 36, 'min_samples_split': 94, 'min_samples_leaf': 35}. Best is trial 12 with value: 0.8304093567251462.\u001b[0m\n",
      "\u001b[32m[I 2023-07-04 19:38:00,446]\u001b[0m Trial 11 finished with value: 0.8622754491017964 and parameters: {'n_estimators': 421, 'max_depth': 43, 'min_samples_split': 30, 'min_samples_leaf': 8}. Best is trial 11 with value: 0.8622754491017964.\u001b[0m\n",
      "\u001b[32m[I 2023-07-04 19:38:01,331]\u001b[0m Trial 22 finished with value: 0.8011695906432749 and parameters: {'n_estimators': 245, 'max_depth': 48, 'min_samples_split': 98, 'min_samples_leaf': 47}. Best is trial 11 with value: 0.8622754491017964.\u001b[0m\n",
      "\u001b[32m[I 2023-07-04 19:38:03,069]\u001b[0m Trial 21 finished with value: 0.7965116279069767 and parameters: {'n_estimators': 334, 'max_depth': 35, 'min_samples_split': 139, 'min_samples_leaf': 36}. Best is trial 11 with value: 0.8622754491017964.\u001b[0m\n",
      "\u001b[32m[I 2023-07-04 19:38:03,599]\u001b[0m Trial 0 finished with value: 0.8372093023255814 and parameters: {'n_estimators': 569, 'max_depth': 20, 'min_samples_split': 52, 'min_samples_leaf': 14}. Best is trial 11 with value: 0.8622754491017964.\u001b[0m\n",
      "\u001b[32m[I 2023-07-04 19:38:04,531]\u001b[0m Trial 2 finished with value: 0.8011695906432749 and parameters: {'n_estimators': 661, 'max_depth': 26, 'min_samples_split': 97, 'min_samples_leaf': 37}. Best is trial 11 with value: 0.8622754491017964.\u001b[0m\n",
      "\u001b[32m[I 2023-07-04 19:38:04,991]\u001b[0m Trial 16 finished with value: 0.7941176470588235 and parameters: {'n_estimators': 609, 'max_depth': 47, 'min_samples_split': 42, 'min_samples_leaf': 58}. Best is trial 11 with value: 0.8622754491017964.\u001b[0m\n",
      "\u001b[32m[I 2023-07-04 19:38:06,587]\u001b[0m Trial 23 finished with value: 0.8470588235294118 and parameters: {'n_estimators': 377, 'max_depth': 7, 'min_samples_split': 33, 'min_samples_leaf': 22}. Best is trial 11 with value: 0.8622754491017964.\u001b[0m\n",
      "\u001b[32m[I 2023-07-04 19:38:07,167]\u001b[0m Trial 14 finished with value: 0.7965116279069767 and parameters: {'n_estimators': 742, 'max_depth': 24, 'min_samples_split': 112, 'min_samples_leaf': 51}. Best is trial 11 with value: 0.8622754491017964.\u001b[0m\n",
      "\u001b[32m[I 2023-07-04 19:38:07,206]\u001b[0m Trial 15 finished with value: 0.7941176470588235 and parameters: {'n_estimators': 750, 'max_depth': 25, 'min_samples_split': 57, 'min_samples_leaf': 59}. Best is trial 11 with value: 0.8622754491017964.\u001b[0m\n",
      "\u001b[32m[I 2023-07-04 19:38:09,690]\u001b[0m Trial 19 finished with value: 0.8011695906432749 and parameters: {'n_estimators': 556, 'max_depth': 39, 'min_samples_split': 72, 'min_samples_leaf': 41}. Best is trial 11 with value: 0.8622754491017964.\u001b[0m\n",
      "\u001b[32m[I 2023-07-04 19:38:10,360]\u001b[0m Trial 10 finished with value: 0.8058823529411765 and parameters: {'n_estimators': 807, 'max_depth': 23, 'min_samples_split': 46, 'min_samples_leaf': 37}. Best is trial 11 with value: 0.8622754491017964.\u001b[0m\n",
      "\u001b[32m[I 2023-07-04 19:38:13,742]\u001b[0m Trial 8 finished with value: 0.8571428571428571 and parameters: {'n_estimators': 878, 'max_depth': 14, 'min_samples_split': 30, 'min_samples_leaf': 13}. Best is trial 11 with value: 0.8622754491017964.\u001b[0m\n",
      "\u001b[32m[I 2023-07-04 19:38:14,576]\u001b[0m Trial 13 finished with value: 0.8323699421965318 and parameters: {'n_estimators': 981, 'max_depth': 10, 'min_samples_split': 26, 'min_samples_leaf': 27}. Best is trial 11 with value: 0.8622754491017964.\u001b[0m\n",
      "\u001b[32m[I 2023-07-04 19:38:16,559]\u001b[0m Trial 24 finished with value: 0.7965116279069767 and parameters: {'n_estimators': 732, 'max_depth': 50, 'min_samples_split': 19, 'min_samples_leaf': 52}. Best is trial 11 with value: 0.8622754491017964.\u001b[0m\n",
      "\u001b[32m[I 2023-07-04 19:38:18,162]\u001b[0m Trial 18 finished with value: 0.8128654970760234 and parameters: {'n_estimators': 988, 'max_depth': 38, 'min_samples_split': 52, 'min_samples_leaf': 33}. Best is trial 11 with value: 0.8622754491017964.\u001b[0m\n",
      "\u001b[32m[I 2023-07-04 19:38:22,302]\u001b[0m Trial 28 finished with value: 0.8021978021978022 and parameters: {'n_estimators': 795, 'max_depth': 4, 'min_samples_split': 3, 'min_samples_leaf': 5}. Best is trial 11 with value: 0.8622754491017964.\u001b[0m\n",
      "\u001b[32m[I 2023-07-04 19:38:22,896]\u001b[0m Trial 27 finished with value: 0.8011049723756906 and parameters: {'n_estimators': 912, 'max_depth': 4, 'min_samples_split': 8, 'min_samples_leaf': 2}. Best is trial 11 with value: 0.8622754491017964.\u001b[0m\n",
      "\u001b[32m[I 2023-07-04 19:38:23,112]\u001b[0m Trial 25 finished with value: 0.8021978021978022 and parameters: {'n_estimators': 933, 'max_depth': 4, 'min_samples_split': 2, 'min_samples_leaf': 7}. Best is trial 11 with value: 0.8622754491017964.\u001b[0m\n",
      "\u001b[32m[I 2023-07-04 19:38:23,856]\u001b[0m Trial 38 finished with value: 0.8192090395480226 and parameters: {'n_estimators': 426, 'max_depth': 5, 'min_samples_split': 12, 'min_samples_leaf': 2}. Best is trial 11 with value: 0.8622754491017964.\u001b[0m\n",
      "\u001b[32m[I 2023-07-04 19:38:24,199]\u001b[0m Trial 32 finished with value: 0.8021978021978022 and parameters: {'n_estimators': 772, 'max_depth': 4, 'min_samples_split': 4, 'min_samples_leaf': 5}. Best is trial 11 with value: 0.8622754491017964.\u001b[0m\n",
      "\u001b[32m[I 2023-07-04 19:38:25,130]\u001b[0m Trial 26 finished with value: 0.8703703703703703 and parameters: {'n_estimators': 881, 'max_depth': 47, 'min_samples_split': 13, 'min_samples_leaf': 5}. Best is trial 26 with value: 0.8703703703703703.\u001b[0m\n",
      "\u001b[32m[I 2023-07-04 19:38:25,184]\u001b[0m Trial 39 finished with value: 0.8333333333333334 and parameters: {'n_estimators': 412, 'max_depth': 14, 'min_samples_split': 64, 'min_samples_leaf': 7}. Best is trial 26 with value: 0.8703703703703703.\u001b[0m\n",
      "\u001b[32m[I 2023-07-04 19:38:26,454]\u001b[0m Trial 29 finished with value: 0.8765432098765432 and parameters: {'n_estimators': 791, 'max_depth': 50, 'min_samples_split': 7, 'min_samples_leaf': 2}. Best is trial 29 with value: 0.8765432098765432.\u001b[0m\n",
      "\u001b[32m[I 2023-07-04 19:38:27,961]\u001b[0m Trial 33 finished with value: 0.8011049723756906 and parameters: {'n_estimators': 931, 'max_depth': 4, 'min_samples_split': 9, 'min_samples_leaf': 2}. Best is trial 29 with value: 0.8765432098765432.\u001b[0m\n"
     ]
    },
    {
     "name": "stderr",
     "output_type": "stream",
     "text": [
      "\u001b[32m[I 2023-07-04 19:38:29,258]\u001b[0m Trial 31 finished with value: 0.8711656441717791 and parameters: {'n_estimators': 875, 'max_depth': 17, 'min_samples_split': 9, 'min_samples_leaf': 2}. Best is trial 29 with value: 0.8765432098765432.\u001b[0m\n",
      "\u001b[32m[I 2023-07-04 19:38:29,709]\u001b[0m Trial 40 finished with value: 0.8650306748466258 and parameters: {'n_estimators': 426, 'max_depth': 14, 'min_samples_split': 7, 'min_samples_leaf': 4}. Best is trial 29 with value: 0.8765432098765432.\u001b[0m\n",
      "\u001b[32m[I 2023-07-04 19:38:31,666]\u001b[0m Trial 42 finished with value: 0.8333333333333334 and parameters: {'n_estimators': 368, 'max_depth': 14, 'min_samples_split': 65, 'min_samples_leaf': 11}. Best is trial 29 with value: 0.8765432098765432.\u001b[0m\n",
      "\u001b[32m[I 2023-07-04 19:38:32,036]\u001b[0m Trial 30 finished with value: 0.8765432098765432 and parameters: {'n_estimators': 956, 'max_depth': 50, 'min_samples_split': 7, 'min_samples_leaf': 2}. Best is trial 29 with value: 0.8765432098765432.\u001b[0m\n",
      "\u001b[32m[I 2023-07-04 19:38:32,887]\u001b[0m Trial 34 finished with value: 0.8650306748466258 and parameters: {'n_estimators': 926, 'max_depth': 13, 'min_samples_split': 10, 'min_samples_leaf': 2}. Best is trial 29 with value: 0.8765432098765432.\u001b[0m\n",
      "\u001b[32m[I 2023-07-04 19:38:33,755]\u001b[0m Trial 44 finished with value: 0.8333333333333334 and parameters: {'n_estimators': 393, 'max_depth': 16, 'min_samples_split': 64, 'min_samples_leaf': 15}. Best is trial 29 with value: 0.8765432098765432.\u001b[0m\n",
      "\u001b[32m[I 2023-07-04 19:38:33,775]\u001b[0m Trial 35 finished with value: 0.8703703703703703 and parameters: {'n_estimators': 920, 'max_depth': 15, 'min_samples_split': 12, 'min_samples_leaf': 6}. Best is trial 29 with value: 0.8765432098765432.\u001b[0m\n",
      "\u001b[32m[I 2023-07-04 19:38:34,433]\u001b[0m Trial 43 finished with value: 0.8323699421965318 and parameters: {'n_estimators': 434, 'max_depth': 14, 'min_samples_split': 64, 'min_samples_leaf': 20}. Best is trial 29 with value: 0.8765432098765432.\u001b[0m\n",
      "\u001b[32m[I 2023-07-04 19:38:35,274]\u001b[0m Trial 41 finished with value: 0.8658536585365854 and parameters: {'n_estimators': 414, 'max_depth': 15, 'min_samples_split': 5, 'min_samples_leaf': 3}. Best is trial 29 with value: 0.8765432098765432.\u001b[0m\n",
      "\u001b[32m[I 2023-07-04 19:38:35,686]\u001b[0m Trial 45 finished with value: 0.8571428571428571 and parameters: {'n_estimators': 415, 'max_depth': 17, 'min_samples_split': 34, 'min_samples_leaf': 15}. Best is trial 29 with value: 0.8765432098765432.\u001b[0m\n",
      "\u001b[32m[I 2023-07-04 19:38:36,282]\u001b[0m Trial 46 finished with value: 0.8571428571428571 and parameters: {'n_estimators': 395, 'max_depth': 15, 'min_samples_split': 33, 'min_samples_leaf': 14}. Best is trial 29 with value: 0.8765432098765432.\u001b[0m\n",
      "\u001b[32m[I 2023-07-04 19:38:37,827]\u001b[0m Trial 36 finished with value: 0.8703703703703703 and parameters: {'n_estimators': 985, 'max_depth': 17, 'min_samples_split': 10, 'min_samples_leaf': 2}. Best is trial 29 with value: 0.8765432098765432.\u001b[0m\n",
      "\u001b[32m[I 2023-07-04 19:38:41,621]\u001b[0m Trial 37 finished with value: 0.8650306748466258 and parameters: {'n_estimators': 998, 'max_depth': 14, 'min_samples_split': 7, 'min_samples_leaf': 4}. Best is trial 29 with value: 0.8765432098765432.\u001b[0m\n",
      "\u001b[32m[I 2023-07-04 19:38:44,966]\u001b[0m Trial 51 finished with value: 0.8571428571428571 and parameters: {'n_estimators': 656, 'max_depth': 16, 'min_samples_split': 14, 'min_samples_leaf': 17}. Best is trial 29 with value: 0.8765432098765432.\u001b[0m\n",
      "\u001b[32m[I 2023-07-04 19:38:46,099]\u001b[0m Trial 47 finished with value: 0.8571428571428571 and parameters: {'n_estimators': 877, 'max_depth': 17, 'min_samples_split': 37, 'min_samples_leaf': 14}. Best is trial 29 with value: 0.8765432098765432.\u001b[0m\n",
      "\u001b[32m[I 2023-07-04 19:38:46,514]\u001b[0m Trial 50 finished with value: 0.8571428571428571 and parameters: {'n_estimators': 676, 'max_depth': 44, 'min_samples_split': 16, 'min_samples_leaf': 10}. Best is trial 29 with value: 0.8765432098765432.\u001b[0m\n",
      "\u001b[32m[I 2023-07-04 19:38:47,631]\u001b[0m Trial 52 finished with value: 0.8571428571428571 and parameters: {'n_estimators': 653, 'max_depth': 19, 'min_samples_split': 16, 'min_samples_leaf': 17}. Best is trial 29 with value: 0.8765432098765432.\u001b[0m\n",
      "\u001b[32m[I 2023-07-04 19:38:48,733]\u001b[0m Trial 48 finished with value: 0.8571428571428571 and parameters: {'n_estimators': 865, 'max_depth': 43, 'min_samples_split': 18, 'min_samples_leaf': 13}. Best is trial 29 with value: 0.8765432098765432.\u001b[0m\n",
      "\u001b[32m[I 2023-07-04 19:38:50,122]\u001b[0m Trial 49 finished with value: 0.8571428571428571 and parameters: {'n_estimators': 860, 'max_depth': 43, 'min_samples_split': 18, 'min_samples_leaf': 14}. Best is trial 29 with value: 0.8765432098765432.\u001b[0m\n",
      "\u001b[32m[I 2023-07-04 19:38:52,538]\u001b[0m Trial 53 finished with value: 0.8461538461538461 and parameters: {'n_estimators': 855, 'max_depth': 44, 'min_samples_split': 19, 'min_samples_leaf': 18}. Best is trial 29 with value: 0.8765432098765432.\u001b[0m\n",
      "\u001b[32m[I 2023-07-04 19:38:53,619]\u001b[0m Trial 54 finished with value: 0.8571428571428571 and parameters: {'n_estimators': 852, 'max_depth': 44, 'min_samples_split': 18, 'min_samples_leaf': 17}. Best is trial 29 with value: 0.8765432098765432.\u001b[0m\n",
      "\u001b[32m[I 2023-07-04 19:38:55,125]\u001b[0m Trial 57 finished with value: 0.8562874251497006 and parameters: {'n_estimators': 834, 'max_depth': 45, 'min_samples_split': 18, 'min_samples_leaf': 9}. Best is trial 29 with value: 0.8765432098765432.\u001b[0m\n",
      "\u001b[32m[I 2023-07-04 19:38:55,584]\u001b[0m Trial 55 finished with value: 0.8571428571428571 and parameters: {'n_estimators': 846, 'max_depth': 44, 'min_samples_split': 18, 'min_samples_leaf': 9}. Best is trial 29 with value: 0.8765432098765432.\u001b[0m\n",
      "\u001b[32m[I 2023-07-04 19:38:56,575]\u001b[0m Trial 56 finished with value: 0.8562874251497006 and parameters: {'n_estimators': 854, 'max_depth': 44, 'min_samples_split': 18, 'min_samples_leaf': 9}. Best is trial 29 with value: 0.8765432098765432.\u001b[0m\n",
      "\u001b[32m[I 2023-07-04 19:38:56,708]\u001b[0m Trial 58 finished with value: 0.8562874251497006 and parameters: {'n_estimators': 843, 'max_depth': 44, 'min_samples_split': 18, 'min_samples_leaf': 9}. Best is trial 29 with value: 0.8765432098765432.\u001b[0m\n",
      "\u001b[32m[I 2023-07-04 19:38:57,605]\u001b[0m Trial 60 finished with value: 0.8614457831325302 and parameters: {'n_estimators': 841, 'max_depth': 44, 'min_samples_split': 18, 'min_samples_leaf': 8}. Best is trial 29 with value: 0.8765432098765432.\u001b[0m\n",
      "\u001b[32m[I 2023-07-04 19:38:57,668]\u001b[0m Trial 59 finished with value: 0.8571428571428571 and parameters: {'n_estimators': 841, 'max_depth': 46, 'min_samples_split': 18, 'min_samples_leaf': 10}. Best is trial 29 with value: 0.8765432098765432.\u001b[0m\n",
      "\u001b[32m[I 2023-07-04 19:39:00,230]\u001b[0m Trial 61 finished with value: 0.8614457831325302 and parameters: {'n_estimators': 853, 'max_depth': 44, 'min_samples_split': 19, 'min_samples_leaf': 8}. Best is trial 29 with value: 0.8765432098765432.\u001b[0m\n",
      "\u001b[32m[I 2023-07-04 19:39:02,875]\u001b[0m Trial 62 finished with value: 0.8571428571428571 and parameters: {'n_estimators': 835, 'max_depth': 44, 'min_samples_split': 16, 'min_samples_leaf': 10}. Best is trial 29 with value: 0.8765432098765432.\u001b[0m\n",
      "\u001b[32m[I 2023-07-04 19:39:06,725]\u001b[0m Trial 63 finished with value: 0.8571428571428571 and parameters: {'n_estimators': 843, 'max_depth': 44, 'min_samples_split': 19, 'min_samples_leaf': 11}. Best is trial 29 with value: 0.8765432098765432.\u001b[0m\n",
      "\u001b[32m[I 2023-07-04 19:39:07,161]\u001b[0m Trial 64 finished with value: 0.8571428571428571 and parameters: {'n_estimators': 832, 'max_depth': 44, 'min_samples_split': 19, 'min_samples_leaf': 10}. Best is trial 29 with value: 0.8765432098765432.\u001b[0m\n",
      "\u001b[32m[I 2023-07-04 19:39:08,408]\u001b[0m Trial 65 finished with value: 0.8614457831325302 and parameters: {'n_estimators': 857, 'max_depth': 30, 'min_samples_split': 21, 'min_samples_leaf': 9}. Best is trial 29 with value: 0.8765432098765432.\u001b[0m\n",
      "\u001b[32m[I 2023-07-04 19:39:09,400]\u001b[0m Trial 66 finished with value: 0.8674698795180723 and parameters: {'n_estimators': 872, 'max_depth': 44, 'min_samples_split': 25, 'min_samples_leaf': 9}. Best is trial 29 with value: 0.8765432098765432.\u001b[0m\n",
      "\u001b[32m[I 2023-07-04 19:39:10,326]\u001b[0m Trial 67 finished with value: 0.8674698795180723 and parameters: {'n_estimators': 837, 'max_depth': 46, 'min_samples_split': 25, 'min_samples_leaf': 9}. Best is trial 29 with value: 0.8765432098765432.\u001b[0m\n"
     ]
    },
    {
     "name": "stderr",
     "output_type": "stream",
     "text": [
      "\u001b[32m[I 2023-07-04 19:39:11,698]\u001b[0m Trial 68 finished with value: 0.8674698795180723 and parameters: {'n_estimators': 828, 'max_depth': 27, 'min_samples_split': 24, 'min_samples_leaf': 8}. Best is trial 29 with value: 0.8765432098765432.\u001b[0m\n",
      "\u001b[32m[I 2023-07-04 19:39:12,188]\u001b[0m Trial 77 finished with value: 0.8666666666666667 and parameters: {'n_estimators': 479, 'max_depth': 28, 'min_samples_split': 24, 'min_samples_leaf': 6}. Best is trial 29 with value: 0.8765432098765432.\u001b[0m\n",
      "\u001b[32m[I 2023-07-04 19:39:14,157]\u001b[0m Trial 69 finished with value: 0.8674698795180723 and parameters: {'n_estimators': 824, 'max_depth': 11, 'min_samples_split': 25, 'min_samples_leaf': 9}. Best is trial 29 with value: 0.8765432098765432.\u001b[0m\n",
      "\u001b[32m[I 2023-07-04 19:39:17,816]\u001b[0m Trial 70 finished with value: 0.8674698795180723 and parameters: {'n_estimators': 965, 'max_depth': 31, 'min_samples_split': 27, 'min_samples_leaf': 9}. Best is trial 29 with value: 0.8765432098765432.\u001b[0m\n",
      "\u001b[32m[I 2023-07-04 19:39:19,183]\u001b[0m Trial 71 finished with value: 0.8666666666666667 and parameters: {'n_estimators': 952, 'max_depth': 30, 'min_samples_split': 26, 'min_samples_leaf': 7}. Best is trial 29 with value: 0.8765432098765432.\u001b[0m\n",
      "\u001b[32m[I 2023-07-04 19:39:19,300]\u001b[0m Trial 72 finished with value: 0.8666666666666667 and parameters: {'n_estimators': 959, 'max_depth': 50, 'min_samples_split': 27, 'min_samples_leaf': 6}. Best is trial 29 with value: 0.8765432098765432.\u001b[0m\n",
      "\u001b[32m[I 2023-07-04 19:39:20,462]\u001b[0m Trial 74 finished with value: 0.8674698795180723 and parameters: {'n_estimators': 963, 'max_depth': 29, 'min_samples_split': 28, 'min_samples_leaf': 6}. Best is trial 29 with value: 0.8765432098765432.\u001b[0m\n",
      "\u001b[32m[I 2023-07-04 19:39:21,286]\u001b[0m Trial 75 finished with value: 0.8658536585365854 and parameters: {'n_estimators': 958, 'max_depth': 29, 'min_samples_split': 26, 'min_samples_leaf': 5}. Best is trial 29 with value: 0.8765432098765432.\u001b[0m\n",
      "\u001b[32m[I 2023-07-04 19:39:21,696]\u001b[0m Trial 73 finished with value: 0.8666666666666667 and parameters: {'n_estimators': 967, 'max_depth': 27, 'min_samples_split': 25, 'min_samples_leaf': 6}. Best is trial 29 with value: 0.8765432098765432.\u001b[0m\n",
      "\u001b[32m[I 2023-07-04 19:39:22,668]\u001b[0m Trial 76 finished with value: 0.8658536585365854 and parameters: {'n_estimators': 962, 'max_depth': 50, 'min_samples_split': 25, 'min_samples_leaf': 5}. Best is trial 29 with value: 0.8765432098765432.\u001b[0m\n",
      "\u001b[32m[I 2023-07-04 19:39:26,848]\u001b[0m Trial 78 finished with value: 0.8658536585365854 and parameters: {'n_estimators': 960, 'max_depth': 11, 'min_samples_split': 25, 'min_samples_leaf': 5}. Best is trial 29 with value: 0.8765432098765432.\u001b[0m\n",
      "\u001b[32m[I 2023-07-04 19:39:30,557]\u001b[0m Trial 79 finished with value: 0.8666666666666667 and parameters: {'n_estimators': 963, 'max_depth': 27, 'min_samples_split': 24, 'min_samples_leaf': 6}. Best is trial 29 with value: 0.8765432098765432.\u001b[0m\n",
      "\u001b[32m[I 2023-07-04 19:39:30,953]\u001b[0m Trial 80 finished with value: 0.8666666666666667 and parameters: {'n_estimators': 954, 'max_depth': 30, 'min_samples_split': 24, 'min_samples_leaf': 6}. Best is trial 29 with value: 0.8765432098765432.\u001b[0m\n",
      "\u001b[32m[I 2023-07-04 19:39:31,456]\u001b[0m Trial 81 finished with value: 0.8674698795180723 and parameters: {'n_estimators': 953, 'max_depth': 50, 'min_samples_split': 29, 'min_samples_leaf': 6}. Best is trial 29 with value: 0.8765432098765432.\u001b[0m\n",
      "\u001b[32m[I 2023-07-04 19:39:33,047]\u001b[0m Trial 82 finished with value: 0.8666666666666667 and parameters: {'n_estimators': 957, 'max_depth': 49, 'min_samples_split': 27, 'min_samples_leaf': 6}. Best is trial 29 with value: 0.8765432098765432.\u001b[0m\n",
      "\u001b[32m[I 2023-07-04 19:39:34,896]\u001b[0m Trial 84 finished with value: 0.8674698795180723 and parameters: {'n_estimators': 954, 'max_depth': 50, 'min_samples_split': 28, 'min_samples_leaf': 6}. Best is trial 29 with value: 0.8765432098765432.\u001b[0m\n",
      "\u001b[32m[I 2023-07-04 19:39:34,945]\u001b[0m Trial 85 finished with value: 0.8614457831325302 and parameters: {'n_estimators': 971, 'max_depth': 50, 'min_samples_split': 40, 'min_samples_leaf': 5}. Best is trial 29 with value: 0.8765432098765432.\u001b[0m\n",
      "\u001b[32m[I 2023-07-04 19:39:35,407]\u001b[0m Trial 83 finished with value: 0.8703703703703703 and parameters: {'n_estimators': 968, 'max_depth': 50, 'min_samples_split': 2, 'min_samples_leaf': 6}. Best is trial 29 with value: 0.8765432098765432.\u001b[0m\n",
      "\u001b[32m[I 2023-07-04 19:39:35,870]\u001b[0m Trial 86 finished with value: 0.8614457831325302 and parameters: {'n_estimators': 898, 'max_depth': 50, 'min_samples_split': 39, 'min_samples_leaf': 5}. Best is trial 29 with value: 0.8765432098765432.\u001b[0m\n",
      "\u001b[32m[I 2023-07-04 19:39:37,964]\u001b[0m Trial 87 finished with value: 0.8614457831325302 and parameters: {'n_estimators': 900, 'max_depth': 49, 'min_samples_split': 40, 'min_samples_leaf': 5}. Best is trial 29 with value: 0.8765432098765432.\u001b[0m\n",
      "\u001b[32m[I 2023-07-04 19:39:40,020]\u001b[0m Trial 92 finished with value: 0.8614457831325302 and parameters: {'n_estimators': 903, 'max_depth': 49, 'min_samples_split': 40, 'min_samples_leaf': 4}. Best is trial 29 with value: 0.8765432098765432.\u001b[0m\n",
      "\u001b[32m[I 2023-07-04 19:39:40,433]\u001b[0m Trial 88 finished with value: 0.8650306748466258 and parameters: {'n_estimators': 900, 'max_depth': 50, 'min_samples_split': 11, 'min_samples_leaf': 5}. Best is trial 29 with value: 0.8765432098765432.\u001b[0m\n",
      "\u001b[32m[I 2023-07-04 19:39:40,612]\u001b[0m Trial 89 finished with value: 0.8650306748466258 and parameters: {'n_estimators': 895, 'max_depth': 48, 'min_samples_split': 11, 'min_samples_leaf': 4}. Best is trial 29 with value: 0.8765432098765432.\u001b[0m\n",
      "\u001b[32m[I 2023-07-04 19:39:40,879]\u001b[0m Trial 90 finished with value: 0.8650306748466258 and parameters: {'n_estimators': 897, 'max_depth': 49, 'min_samples_split': 11, 'min_samples_leaf': 4}. Best is trial 29 with value: 0.8765432098765432.\u001b[0m\n",
      "\u001b[32m[I 2023-07-04 19:39:41,442]\u001b[0m Trial 91 finished with value: 0.8650306748466258 and parameters: {'n_estimators': 901, 'max_depth': 48, 'min_samples_split': 11, 'min_samples_leaf': 4}. Best is trial 29 with value: 0.8765432098765432.\u001b[0m\n",
      "\u001b[32m[I 2023-07-04 19:39:42,000]\u001b[0m Trial 93 finished with value: 0.8650306748466258 and parameters: {'n_estimators': 914, 'max_depth': 48, 'min_samples_split': 11, 'min_samples_leaf': 3}. Best is trial 29 with value: 0.8765432098765432.\u001b[0m\n",
      "\u001b[32m[I 2023-07-04 19:39:43,247]\u001b[0m Trial 94 finished with value: 0.8650306748466258 and parameters: {'n_estimators': 903, 'max_depth': 48, 'min_samples_split': 11, 'min_samples_leaf': 3}. Best is trial 29 with value: 0.8765432098765432.\u001b[0m\n",
      "\u001b[32m[I 2023-07-04 19:39:44,337]\u001b[0m Trial 96 finished with value: 0.8650306748466258 and parameters: {'n_estimators': 896, 'max_depth': 48, 'min_samples_split': 11, 'min_samples_leaf': 3}. Best is trial 29 with value: 0.8765432098765432.\u001b[0m\n",
      "\u001b[32m[I 2023-07-04 19:39:44,359]\u001b[0m Trial 95 finished with value: 0.8650306748466258 and parameters: {'n_estimators': 912, 'max_depth': 22, 'min_samples_split': 11, 'min_samples_leaf': 3}. Best is trial 29 with value: 0.8765432098765432.\u001b[0m\n",
      "\u001b[32m[I 2023-07-04 19:39:44,507]\u001b[0m Trial 97 finished with value: 0.8650306748466258 and parameters: {'n_estimators': 908, 'max_depth': 48, 'min_samples_split': 11, 'min_samples_leaf': 3}. Best is trial 29 with value: 0.8765432098765432.\u001b[0m\n",
      "\u001b[32m[I 2023-07-04 19:39:44,667]\u001b[0m Trial 98 finished with value: 0.8650306748466258 and parameters: {'n_estimators': 897, 'max_depth': 40, 'min_samples_split': 11, 'min_samples_leaf': 3}. Best is trial 29 with value: 0.8765432098765432.\u001b[0m\n",
      "\u001b[32m[I 2023-07-04 19:39:44,773]\u001b[0m Trial 99 finished with value: 0.8650306748466258 and parameters: {'n_estimators': 904, 'max_depth': 41, 'min_samples_split': 12, 'min_samples_leaf': 3}. Best is trial 29 with value: 0.8765432098765432.\u001b[0m\n"
     ]
    }
   ],
   "source": [
    "study = opt.create_study(direction='maximize')\n",
    "study.optimize(objective, n_trials=100, n_jobs=-1)\n",
    "\n",
    "trial = study.best_trial"
   ]
  },
  {
   "cell_type": "code",
   "execution_count": 13,
   "id": "6c13a8b8",
   "metadata": {},
   "outputs": [
    {
     "data": {
      "text/html": [
       "<style>#sk-container-id-1 {color: black;background-color: white;}#sk-container-id-1 pre{padding: 0;}#sk-container-id-1 div.sk-toggleable {background-color: white;}#sk-container-id-1 label.sk-toggleable__label {cursor: pointer;display: block;width: 100%;margin-bottom: 0;padding: 0.3em;box-sizing: border-box;text-align: center;}#sk-container-id-1 label.sk-toggleable__label-arrow:before {content: \"▸\";float: left;margin-right: 0.25em;color: #696969;}#sk-container-id-1 label.sk-toggleable__label-arrow:hover:before {color: black;}#sk-container-id-1 div.sk-estimator:hover label.sk-toggleable__label-arrow:before {color: black;}#sk-container-id-1 div.sk-toggleable__content {max-height: 0;max-width: 0;overflow: hidden;text-align: left;background-color: #f0f8ff;}#sk-container-id-1 div.sk-toggleable__content pre {margin: 0.2em;color: black;border-radius: 0.25em;background-color: #f0f8ff;}#sk-container-id-1 input.sk-toggleable__control:checked~div.sk-toggleable__content {max-height: 200px;max-width: 100%;overflow: auto;}#sk-container-id-1 input.sk-toggleable__control:checked~label.sk-toggleable__label-arrow:before {content: \"▾\";}#sk-container-id-1 div.sk-estimator input.sk-toggleable__control:checked~label.sk-toggleable__label {background-color: #d4ebff;}#sk-container-id-1 div.sk-label input.sk-toggleable__control:checked~label.sk-toggleable__label {background-color: #d4ebff;}#sk-container-id-1 input.sk-hidden--visually {border: 0;clip: rect(1px 1px 1px 1px);clip: rect(1px, 1px, 1px, 1px);height: 1px;margin: -1px;overflow: hidden;padding: 0;position: absolute;width: 1px;}#sk-container-id-1 div.sk-estimator {font-family: monospace;background-color: #f0f8ff;border: 1px dotted black;border-radius: 0.25em;box-sizing: border-box;margin-bottom: 0.5em;}#sk-container-id-1 div.sk-estimator:hover {background-color: #d4ebff;}#sk-container-id-1 div.sk-parallel-item::after {content: \"\";width: 100%;border-bottom: 1px solid gray;flex-grow: 1;}#sk-container-id-1 div.sk-label:hover label.sk-toggleable__label {background-color: #d4ebff;}#sk-container-id-1 div.sk-serial::before {content: \"\";position: absolute;border-left: 1px solid gray;box-sizing: border-box;top: 0;bottom: 0;left: 50%;z-index: 0;}#sk-container-id-1 div.sk-serial {display: flex;flex-direction: column;align-items: center;background-color: white;padding-right: 0.2em;padding-left: 0.2em;position: relative;}#sk-container-id-1 div.sk-item {position: relative;z-index: 1;}#sk-container-id-1 div.sk-parallel {display: flex;align-items: stretch;justify-content: center;background-color: white;position: relative;}#sk-container-id-1 div.sk-item::before, #sk-container-id-1 div.sk-parallel-item::before {content: \"\";position: absolute;border-left: 1px solid gray;box-sizing: border-box;top: 0;bottom: 0;left: 50%;z-index: -1;}#sk-container-id-1 div.sk-parallel-item {display: flex;flex-direction: column;z-index: 1;position: relative;background-color: white;}#sk-container-id-1 div.sk-parallel-item:first-child::after {align-self: flex-end;width: 50%;}#sk-container-id-1 div.sk-parallel-item:last-child::after {align-self: flex-start;width: 50%;}#sk-container-id-1 div.sk-parallel-item:only-child::after {width: 0;}#sk-container-id-1 div.sk-dashed-wrapped {border: 1px dashed gray;margin: 0 0.4em 0.5em 0.4em;box-sizing: border-box;padding-bottom: 0.4em;background-color: white;}#sk-container-id-1 div.sk-label label {font-family: monospace;font-weight: bold;display: inline-block;line-height: 1.2em;}#sk-container-id-1 div.sk-label-container {text-align: center;}#sk-container-id-1 div.sk-container {/* jupyter's `normalize.less` sets `[hidden] { display: none; }` but bootstrap.min.css set `[hidden] { display: none !important; }` so we also need the `!important` here to be able to override the default hidden behavior on the sphinx rendered scikit-learn.org. See: https://github.com/scikit-learn/scikit-learn/issues/21755 */display: inline-block !important;position: relative;}#sk-container-id-1 div.sk-text-repr-fallback {display: none;}</style><div id=\"sk-container-id-1\" class=\"sk-top-container\"><div class=\"sk-text-repr-fallback\"><pre>RandomForestClassifier(max_depth=50, min_samples_leaf=2, min_samples_split=7,\n",
       "                       n_estimators=791, random_state=42)</pre><b>In a Jupyter environment, please rerun this cell to show the HTML representation or trust the notebook. <br />On GitHub, the HTML representation is unable to render, please try loading this page with nbviewer.org.</b></div><div class=\"sk-container\" hidden><div class=\"sk-item\"><div class=\"sk-estimator sk-toggleable\"><input class=\"sk-toggleable__control sk-hidden--visually\" id=\"sk-estimator-id-1\" type=\"checkbox\" checked><label for=\"sk-estimator-id-1\" class=\"sk-toggleable__label sk-toggleable__label-arrow\">RandomForestClassifier</label><div class=\"sk-toggleable__content\"><pre>RandomForestClassifier(max_depth=50, min_samples_leaf=2, min_samples_split=7,\n",
       "                       n_estimators=791, random_state=42)</pre></div></div></div></div></div>"
      ],
      "text/plain": [
       "RandomForestClassifier(max_depth=50, min_samples_leaf=2, min_samples_split=7,\n",
       "                       n_estimators=791, random_state=42)"
      ]
     },
     "execution_count": 13,
     "metadata": {},
     "output_type": "execute_result"
    }
   ],
   "source": [
    "clf = RandomForestClassifier(random_state=42, **study.best_params)\n",
    "clf.fit(X_train, y_train)"
   ]
  },
  {
   "cell_type": "code",
   "execution_count": 14,
   "id": "f3fcea21",
   "metadata": {},
   "outputs": [],
   "source": [
    "y_pred = clf.predict(X_test)"
   ]
  },
  {
   "cell_type": "code",
   "execution_count": 15,
   "id": "7b9f3370",
   "metadata": {},
   "outputs": [
    {
     "name": "stdout",
     "output_type": "stream",
     "text": [
      "              precision    recall  f1-score   support\n",
      "\n",
      "           0       0.89      0.88      0.88       169\n",
      "           1       0.88      0.88      0.88       161\n",
      "\n",
      "    accuracy                           0.88       330\n",
      "   macro avg       0.88      0.88      0.88       330\n",
      "weighted avg       0.88      0.88      0.88       330\n",
      "\n"
     ]
    }
   ],
   "source": [
    "print(classification_report(y_test, y_pred))"
   ]
  },
  {
   "cell_type": "code",
   "execution_count": 17,
   "id": "0ef0deaf",
   "metadata": {},
   "outputs": [
    {
     "name": "stdout",
     "output_type": "stream",
     "text": [
      "A Feature x1 tem: 0.42% de importancia para a target\n",
      "A Feature x2 tem: 0.58% de importancia para a target\n"
     ]
    }
   ],
   "source": [
    "for importance_tuple in zip(clf.feature_importances_, X_train.columns):\n",
    "    importance, column = importance_tuple\n",
    "    print(f\"A Feature {column} tem: {importance:.2f}% de importancia para a target\")"
   ]
  },
  {
   "cell_type": "code",
   "execution_count": null,
   "id": "b8f93029",
   "metadata": {},
   "outputs": [],
   "source": []
  }
 ],
 "metadata": {
  "kernelspec": {
   "display_name": "Python 3 (ipykernel)",
   "language": "python",
   "name": "python3"
  },
  "language_info": {
   "codemirror_mode": {
    "name": "ipython",
    "version": 3
   },
   "file_extension": ".py",
   "mimetype": "text/x-python",
   "name": "python",
   "nbconvert_exporter": "python",
   "pygments_lexer": "ipython3",
   "version": "3.10.9"
  }
 },
 "nbformat": 4,
 "nbformat_minor": 5
}
